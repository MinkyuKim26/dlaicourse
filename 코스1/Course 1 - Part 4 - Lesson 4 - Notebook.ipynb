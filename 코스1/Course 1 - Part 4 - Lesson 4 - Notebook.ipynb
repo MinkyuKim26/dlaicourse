{
  "cells": [
    {
      "cell_type": "code",
      "execution_count": 1,
      "metadata": {
        "colab": {},
        "colab_type": "code",
        "id": "N9-BCmi15L93"
      },
      "outputs": [
        {
          "output_type": "error",
          "ename": "SyntaxError",
          "evalue": "invalid syntax (<ipython-input-1-34a31bfe6319>, line 21)",
          "traceback": [
            "\u001b[0;36m  File \u001b[0;32m\"<ipython-input-1-34a31bfe6319>\"\u001b[0;36m, line \u001b[0;32m21\u001b[0m\n\u001b[0;31m    (x_train, y_train),(x_test, y_test) = mnist.load_data()\u001b[0m\n\u001b[0m                                        ^\u001b[0m\n\u001b[0;31mSyntaxError\u001b[0m\u001b[0;31m:\u001b[0m invalid syntax\n"
          ]
        }
      ],
      "source": [
        "# 얜 왜이렇게 짧지\n",
        "import tensorflow as tf\n",
        " \n",
        "# 콜백 함수. 매 에포크 끝나고 호출됨\n",
        "class myCallback(tf.keras.callbacks.Callback):\n",
        "  def on_epoch_end(self, epoch, logs={}):\n",
        "    if(logs.get('accuracy')>0.6):\n",
        "      print(\"\\nReached 60% accuracy so cancelling training!\")\n",
        "      self.model.stop_training = True # 기준 넘으면 훈련 중단.\n",
        "\n",
        "mnist = tf.keras.datasets.fashion_mnist # 데이터 로드\n",
        "\n",
        "(x_train, y_train),(x_test, y_test) = mnist.load_data() # 데이터 분류 \n",
        "\n",
        "x_train, x_test = x_train / 255.0, x_test / 255.0 # 데이터 일반화(모델 성능 올리기 위함)\n",
        "\n",
        "callbacks = myCallback() # 콜백 함숮 지정\n",
        "\n",
        "# 모델 생성\n",
        "model = tf.keras.models.Sequential([\n",
        "  tf.keras.layers.Flatten(input_shape=(28, 28)),\n",
        "(x_train, y_train),(x_test, y_test) = mnist.load_data()\n",
        "x_train, x_test = x_train / 255.0, x_test / 255.0\n",
        "])\n",
        "\n",
        "# 컴파일\n",
        "model.compile(optimizer=tf.optimizers.Adam(),\n",
        "              loss='sparse_categorical_crossentropy',\n",
        "              metrics=['accuracy'])\n",
        "\n",
        "# 훈련\n",
        "model.fit(x_train, y_train, epochs=10, callbacks=[callbacks])\n",
        "\n",
        "model.evaluate()"
      ]
    },
    {
      "cell_type": "code",
      "execution_count": null,
      "metadata": {},
      "outputs": [],
      "source": []
    }
  ],
  "metadata": {
    "colab": {
      "collapsed_sections": [],
      "include_colab_link": true,
      "name": "Course 1 - Part 4 - Lesson 4 - Notebook.ipynb",
      "private_outputs": true,
      "provenance": [],
      "toc_visible": true
    },
    "kernelspec": {
      "display_name": "Python 3",
      "language": "python",
      "name": "python3"
    },
    "language_info": {
      "codemirror_mode": {
        "name": "ipython",
        "version": 3
      },
      "file_extension": ".py",
      "mimetype": "text/x-python",
      "name": "python",
      "nbconvert_exporter": "python",
      "pygments_lexer": "ipython3",
      "version": "3.8.5-final"
    }
  },
  "nbformat": 4,
  "nbformat_minor": 1
}