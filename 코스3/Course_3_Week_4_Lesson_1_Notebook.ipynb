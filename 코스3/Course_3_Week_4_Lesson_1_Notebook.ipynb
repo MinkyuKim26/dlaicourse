{
  "nbformat": 4,
  "nbformat_minor": 0,
  "metadata": {
    "accelerator": "GPU",
    "colab": {
      "name": "Course 3 - Week 4 - Lesson 1 - Notebook.ipynb",
      "provenance": [],
      "collapsed_sections": [],
      "toc_visible": true
    },
    "kernelspec": {
      "display_name": "Python 3",
      "name": "python3",
      "language": "python"
    }
  },
  "cells": [
    {
      "cell_type": "code",
      "metadata": {
        "id": "zX4Kg8DUTKWO"
      },
      "source": [
        "# 다음 단어 예측. 예를 들어 '반짝 반짝 작은별'이 있을 때 '반짝', '반짝'은 X로, '작은별'은 Y로 모델에 넣는다. 그럼 규칙을 찾겠지?\n",
        "# 근데 여기서 Y를 원-핫-인코딩 처리한다. 즉, [0,0,0,0,.....1,0,0,0,0,0,0,...]로 만든다는 것. 토커나이저에 입력하는 단어가 진짜 많은데 그 크기만큼 리스트를 만든다는게 음...너무 연산속도에 부담이 갈거 같다. \n",
        "#@title Licensed under the Apache License, Version 2.0 (the \"License\");\n",
        "# you may not use this file except in compliance with the License.\n",
        "# You may obtain a copy of the License at\n",
        "#\n",
        "# https://www.apache.org/licenses/LICENSE-2.0\n",
        "#\n",
        "# Unless required by applicable law or agreed to in writing, software\n",
        "# distributed under the License is distributed on an \"AS IS\" BASIS,\n",
        "# WITHOUT WARRANTIES OR CONDITIONS OF ANY KIND, either express or implied.\n",
        "# See the License for the specific language governing permissions and\n",
        "# limitations under the License."
      ],
      "execution_count": null,
      "outputs": []
    },
    {
      "cell_type": "code",
      "metadata": {
        "id": "BOwsuGQQY9OL"
      },
      "source": [
        "import tensorflow as tf\n",
        "\n",
        "from tensorflow.keras.preprocessing.sequence import pad_sequences\n",
        "from tensorflow.keras.layers import Embedding, LSTM, Dense, Bidirectional\n",
        "from tensorflow.keras.preprocessing.text import Tokenizer\n",
        "from tensorflow.keras.models import Sequential\n",
        "from tensorflow.keras.optimizers import Adam\n",
        "import numpy as np "
      ],
      "execution_count": 1,
      "outputs": []
    },
    {
      "cell_type": "code",
      "metadata": {
        "id": "PRnDnCW-Z7qv"
      },
      "source": [
        "tokenizer = Tokenizer()\n",
        "\n",
        "# 입력 데이터\n",
        "data=\"In the town of Athy one Jeremy Lanigan \\n Battered away til he hadnt a pound. \\nHis father died and made him a man again \\n Left him a farm and ten acres of ground. \\nHe gave a grand party for friends and relations \\nWho didnt forget him when come to the wall, \\nAnd if youll but listen Ill make your eyes glisten \\nOf the rows and the ructions of Lanigans Ball. \\nMyself to be sure got free invitation, \\nFor all the nice girls and boys I might ask, \\nAnd just in a minute both friends and relations \\nWere dancing round merry as bees round a cask. \\nJudy ODaly, that nice little milliner, \\nShe tipped me a wink for to give her a call, \\nAnd I soon arrived with Peggy McGilligan \\nJust in time for Lanigans Ball. \\nThere were lashings of punch and wine for the ladies, \\nPotatoes and cakes; there was bacon and tea, \\nThere were the Nolans, Dolans, OGradys \\nCourting the girls and dancing away. \\nSongs they went round as plenty as water, \\nThe harp that once sounded in Taras old hall,\\nSweet Nelly Gray and The Rat Catchers Daughter,\\nAll singing together at Lanigans Ball. \\nThey were doing all kinds of nonsensical polkas \\nAll round the room in a whirligig. \\nJulia and I, we banished their nonsense \\nAnd tipped them the twist of a reel and a jig. \\nAch mavrone, how the girls got all mad at me \\nDanced til youd think the ceiling would fall. \\nFor I spent three weeks at Brooks Academy \\nLearning new steps for Lanigans Ball. \\nThree long weeks I spent up in Dublin, \\nThree long weeks to learn nothing at all,\\n Three long weeks I spent up in Dublin, \\nLearning new steps for Lanigans Ball. \\nShe stepped out and I stepped in again, \\nI stepped out and she stepped in again, \\nShe stepped out and I stepped in again, \\nLearning new steps for Lanigans Ball. \\nBoys were all merry and the girls they were hearty \\nAnd danced all around in couples and groups, \\nTil an accident happened, young Terrance McCarthy \\nPut his right leg through miss Finnertys hoops. \\nPoor creature fainted and cried Meelia murther, \\nCalled for her brothers and gathered them all. \\nCarmody swore that hed go no further \\nTil he had satisfaction at Lanigans Ball. \\nIn the midst of the row miss Kerrigan fainted, \\nHer cheeks at the same time as red as a rose. \\nSome of the lads declared she was painted, \\nShe took a small drop too much, I suppose. \\nHer sweetheart, Ned Morgan, so powerful and able, \\nWhen he saw his fair colleen stretched out by the wall, \\nTore the left leg from under the table \\nAnd smashed all the Chaneys at Lanigans Ball. \\nBoys, oh boys, twas then there were runctions. \\nMyself got a lick from big Phelim McHugh. \\nI soon replied to his introduction \\nAnd kicked up a terrible hullabaloo. \\nOld Casey, the piper, was near being strangled. \\nThey squeezed up his pipes, bellows, chanters and all. \\nThe girls, in their ribbons, they got all entangled \\nAnd that put an end to Lanigans Ball.\"\n",
        "\n",
        "# 다 소문자로 만들어버린 다음 줄바꿈 단위마다 문장을 나눠 리스트에 넣는다. \n",
        "corpus = data.lower().split(\"\\n\")\n",
        "\n",
        "tokenizer.fit_on_texts(corpus) # 리스트를 이용해 토커나이저 생성\n",
        "total_words = len(tokenizer.word_index) + 1 # 토커나이저에 없는 단어(outer of vocabulary)를 생각해 1을 더했다. \n",
        "\n",
        "print(tokenizer.word_index) # 토커나이저 출력\n",
        "print(total_words) # 총 단어 개수\n"
      ],
      "execution_count": 2,
      "outputs": [
        {
          "output_type": "stream",
          "name": "stdout",
          "text": [
            "{'and': 1, 'the': 2, 'a': 3, 'in': 4, 'all': 5, 'i': 6, 'for': 7, 'of': 8, 'lanigans': 9, 'ball': 10, 'were': 11, 'at': 12, 'to': 13, 'she': 14, 'stepped': 15, 'his': 16, 'girls': 17, 'as': 18, 'they': 19, 'til': 20, 'he': 21, 'again': 22, 'got': 23, 'boys': 24, 'round': 25, 'that': 26, 'her': 27, 'there': 28, 'three': 29, 'weeks': 30, 'up': 31, 'out': 32, 'him': 33, 'was': 34, 'spent': 35, 'learning': 36, 'new': 37, 'steps': 38, 'long': 39, 'away': 40, 'left': 41, 'friends': 42, 'relations': 43, 'when': 44, 'wall': 45, 'myself': 46, 'nice': 47, 'just': 48, 'dancing': 49, 'merry': 50, 'tipped': 51, 'me': 52, 'soon': 53, 'time': 54, 'old': 55, 'their': 56, 'them': 57, 'danced': 58, 'dublin': 59, 'an': 60, 'put': 61, 'leg': 62, 'miss': 63, 'fainted': 64, 'from': 65, 'town': 66, 'athy': 67, 'one': 68, 'jeremy': 69, 'lanigan': 70, 'battered': 71, 'hadnt': 72, 'pound': 73, 'father': 74, 'died': 75, 'made': 76, 'man': 77, 'farm': 78, 'ten': 79, 'acres': 80, 'ground': 81, 'gave': 82, 'grand': 83, 'party': 84, 'who': 85, 'didnt': 86, 'forget': 87, 'come': 88, 'if': 89, 'youll': 90, 'but': 91, 'listen': 92, 'ill': 93, 'make': 94, 'your': 95, 'eyes': 96, 'glisten': 97, 'rows': 98, 'ructions': 99, 'be': 100, 'sure': 101, 'free': 102, 'invitation': 103, 'might': 104, 'ask': 105, 'minute': 106, 'both': 107, 'bees': 108, 'cask': 109, 'judy': 110, 'odaly': 111, 'little': 112, 'milliner': 113, 'wink': 114, 'give': 115, 'call': 116, 'arrived': 117, 'with': 118, 'peggy': 119, 'mcgilligan': 120, 'lashings': 121, 'punch': 122, 'wine': 123, 'ladies': 124, 'potatoes': 125, 'cakes': 126, 'bacon': 127, 'tea': 128, 'nolans': 129, 'dolans': 130, 'ogradys': 131, 'courting': 132, 'songs': 133, 'went': 134, 'plenty': 135, 'water': 136, 'harp': 137, 'once': 138, 'sounded': 139, 'taras': 140, 'hall': 141, 'sweet': 142, 'nelly': 143, 'gray': 144, 'rat': 145, 'catchers': 146, 'daughter': 147, 'singing': 148, 'together': 149, 'doing': 150, 'kinds': 151, 'nonsensical': 152, 'polkas': 153, 'room': 154, 'whirligig': 155, 'julia': 156, 'we': 157, 'banished': 158, 'nonsense': 159, 'twist': 160, 'reel': 161, 'jig': 162, 'ach': 163, 'mavrone': 164, 'how': 165, 'mad': 166, 'youd': 167, 'think': 168, 'ceiling': 169, 'would': 170, 'fall': 171, 'brooks': 172, 'academy': 173, 'learn': 174, 'nothing': 175, 'hearty': 176, 'around': 177, 'couples': 178, 'groups': 179, 'accident': 180, 'happened': 181, 'young': 182, 'terrance': 183, 'mccarthy': 184, 'right': 185, 'through': 186, 'finnertys': 187, 'hoops': 188, 'poor': 189, 'creature': 190, 'cried': 191, 'meelia': 192, 'murther': 193, 'called': 194, 'brothers': 195, 'gathered': 196, 'carmody': 197, 'swore': 198, 'hed': 199, 'go': 200, 'no': 201, 'further': 202, 'had': 203, 'satisfaction': 204, 'midst': 205, 'row': 206, 'kerrigan': 207, 'cheeks': 208, 'same': 209, 'red': 210, 'rose': 211, 'some': 212, 'lads': 213, 'declared': 214, 'painted': 215, 'took': 216, 'small': 217, 'drop': 218, 'too': 219, 'much': 220, 'suppose': 221, 'sweetheart': 222, 'ned': 223, 'morgan': 224, 'so': 225, 'powerful': 226, 'able': 227, 'saw': 228, 'fair': 229, 'colleen': 230, 'stretched': 231, 'by': 232, 'tore': 233, 'under': 234, 'table': 235, 'smashed': 236, 'chaneys': 237, 'oh': 238, 'twas': 239, 'then': 240, 'runctions': 241, 'lick': 242, 'big': 243, 'phelim': 244, 'mchugh': 245, 'replied': 246, 'introduction': 247, 'kicked': 248, 'terrible': 249, 'hullabaloo': 250, 'casey': 251, 'piper': 252, 'near': 253, 'being': 254, 'strangled': 255, 'squeezed': 256, 'pipes': 257, 'bellows': 258, 'chanters': 259, 'ribbons': 260, 'entangled': 261, 'end': 262}\n263\n"
          ]
        }
      ]
    },
    {
      "cell_type": "code",
      "metadata": {
        "id": "soPGVheskaQP"
      },
      "source": [
        "input_sequences = [] \n",
        "for line in corpus:\n",
        "\ttoken_list = tokenizer.texts_to_sequences([line])[0]\n",
        "\t#print(tokenizer.texts_to_sequences([line]))\n",
        "\t#print(token_list) # tokenizer.texts_to_sequences([line])[0]이 시퀀스였다. 근데 tokenizer.texts_to_sequences([line])가 빈 껍데기였다. 뭐지? \n",
        "\t# [[4, 2, 66, 8, 67, 68, 69, 70]] : tokenizer.texts_to_sequences([line])\n",
        "\t# [4, 2, 66, 8, 67, 68, 69, 70] : tokenizer.texts_to_sequences([line])[0]\n",
        "\tfor i in range(1, len(token_list)): # 시퀀스 안의 토큰 하나씩 꺼내기\n",
        "\t\tn_gram_sequence = token_list[:i+1] # 피라미드? 개념으로 [4,2], [4,2,66], [4,2,66,8]...를 계속 생산\n",
        "\t\tinput_sequences.append(n_gram_sequence) # 만든걸 더해줌\n",
        "print(input_sequences) # 모든 문장에 대한 [4,2], [4,2,66], [4,2,66,8]...이 다 들어있다. 연산능력 믿고 다 때려넣었구나...하는 생각이 든다.\n",
        "# pad sequences \n",
        "max_sequence_len = max([len(x) for x in input_sequences]) # 최대 길이 구하기. 왜냐하면 최대 길이 기준으로 패딩을 할 것이기 때문.\n",
        "input_sequences = np.array(pad_sequences(input_sequences, maxlen=max_sequence_len, padding='pre')) # 다 패딩처리 해준다. 앞에 0이 있는게 연산에 더 편하기 때문에 패딩 모드를 pre로 해준다. \n",
        "\n",
        "# create predictors and label\n",
        "xs, labels = input_sequences[:,:-1],input_sequences[:,-1] # 입력값 구하기. [0 0 0 0 0 0 0 4 2]가 있을 때 [0 0 0 0 0 0 0 4]를 입력, [2]를 출력으로 한다. 파이썬의 성질 덕분에 이렇게 코드 한 줄로 쉽게 만들 수 있다. \n",
        "\n",
        "ys = tf.keras.utils.to_categorical(labels, num_classes=total_words) # 출력값. 앞서 구한 label(마지막 인덱스에 대한 값)을 원-핫-인코딩으로 만든다. MNIST생각하면 된다. 답이 하나밖에 없어 MNIST처리하듯 처리하면 된다. 문제는 분류할 클래스 개수가 너무 많다는거다. 이래도 괜찮나...?"
      ],
      "execution_count": 8,
      "outputs": [
        {
          "output_type": "stream",
          "name": "stdout",
          "text": [
            "[[4, 2], [4, 2, 66], [4, 2, 66, 8], [4, 2, 66, 8, 67], [4, 2, 66, 8, 67, 68], [4, 2, 66, 8, 67, 68, 69], [4, 2, 66, 8, 67, 68, 69, 70], [71, 40], [71, 40, 20], [71, 40, 20, 21], [71, 40, 20, 21, 72], [71, 40, 20, 21, 72, 3], [71, 40, 20, 21, 72, 3, 73], [16, 74], [16, 74, 75], [16, 74, 75, 1], [16, 74, 75, 1, 76], [16, 74, 75, 1, 76, 33], [16, 74, 75, 1, 76, 33, 3], [16, 74, 75, 1, 76, 33, 3, 77], [16, 74, 75, 1, 76, 33, 3, 77, 22], [41, 33], [41, 33, 3], [41, 33, 3, 78], [41, 33, 3, 78, 1], [41, 33, 3, 78, 1, 79], [41, 33, 3, 78, 1, 79, 80], [41, 33, 3, 78, 1, 79, 80, 8], [41, 33, 3, 78, 1, 79, 80, 8, 81], [21, 82], [21, 82, 3], [21, 82, 3, 83], [21, 82, 3, 83, 84], [21, 82, 3, 83, 84, 7], [21, 82, 3, 83, 84, 7, 42], [21, 82, 3, 83, 84, 7, 42, 1], [21, 82, 3, 83, 84, 7, 42, 1, 43], [85, 86], [85, 86, 87], [85, 86, 87, 33], [85, 86, 87, 33, 44], [85, 86, 87, 33, 44, 88], [85, 86, 87, 33, 44, 88, 13], [85, 86, 87, 33, 44, 88, 13, 2], [85, 86, 87, 33, 44, 88, 13, 2, 45], [1, 89], [1, 89, 90], [1, 89, 90, 91], [1, 89, 90, 91, 92], [1, 89, 90, 91, 92, 93], [1, 89, 90, 91, 92, 93, 94], [1, 89, 90, 91, 92, 93, 94, 95], [1, 89, 90, 91, 92, 93, 94, 95, 96], [1, 89, 90, 91, 92, 93, 94, 95, 96, 97], [8, 2], [8, 2, 98], [8, 2, 98, 1], [8, 2, 98, 1, 2], [8, 2, 98, 1, 2, 99], [8, 2, 98, 1, 2, 99, 8], [8, 2, 98, 1, 2, 99, 8, 9], [8, 2, 98, 1, 2, 99, 8, 9, 10], [46, 13], [46, 13, 100], [46, 13, 100, 101], [46, 13, 100, 101, 23], [46, 13, 100, 101, 23, 102], [46, 13, 100, 101, 23, 102, 103], [7, 5], [7, 5, 2], [7, 5, 2, 47], [7, 5, 2, 47, 17], [7, 5, 2, 47, 17, 1], [7, 5, 2, 47, 17, 1, 24], [7, 5, 2, 47, 17, 1, 24, 6], [7, 5, 2, 47, 17, 1, 24, 6, 104], [7, 5, 2, 47, 17, 1, 24, 6, 104, 105], [1, 48], [1, 48, 4], [1, 48, 4, 3], [1, 48, 4, 3, 106], [1, 48, 4, 3, 106, 107], [1, 48, 4, 3, 106, 107, 42], [1, 48, 4, 3, 106, 107, 42, 1], [1, 48, 4, 3, 106, 107, 42, 1, 43], [11, 49], [11, 49, 25], [11, 49, 25, 50], [11, 49, 25, 50, 18], [11, 49, 25, 50, 18, 108], [11, 49, 25, 50, 18, 108, 25], [11, 49, 25, 50, 18, 108, 25, 3], [11, 49, 25, 50, 18, 108, 25, 3, 109], [110, 111], [110, 111, 26], [110, 111, 26, 47], [110, 111, 26, 47, 112], [110, 111, 26, 47, 112, 113], [14, 51], [14, 51, 52], [14, 51, 52, 3], [14, 51, 52, 3, 114], [14, 51, 52, 3, 114, 7], [14, 51, 52, 3, 114, 7, 13], [14, 51, 52, 3, 114, 7, 13, 115], [14, 51, 52, 3, 114, 7, 13, 115, 27], [14, 51, 52, 3, 114, 7, 13, 115, 27, 3], [14, 51, 52, 3, 114, 7, 13, 115, 27, 3, 116], [1, 6], [1, 6, 53], [1, 6, 53, 117], [1, 6, 53, 117, 118], [1, 6, 53, 117, 118, 119], [1, 6, 53, 117, 118, 119, 120], [48, 4], [48, 4, 54], [48, 4, 54, 7], [48, 4, 54, 7, 9], [48, 4, 54, 7, 9, 10], [28, 11], [28, 11, 121], [28, 11, 121, 8], [28, 11, 121, 8, 122], [28, 11, 121, 8, 122, 1], [28, 11, 121, 8, 122, 1, 123], [28, 11, 121, 8, 122, 1, 123, 7], [28, 11, 121, 8, 122, 1, 123, 7, 2], [28, 11, 121, 8, 122, 1, 123, 7, 2, 124], [125, 1], [125, 1, 126], [125, 1, 126, 28], [125, 1, 126, 28, 34], [125, 1, 126, 28, 34, 127], [125, 1, 126, 28, 34, 127, 1], [125, 1, 126, 28, 34, 127, 1, 128], [28, 11], [28, 11, 2], [28, 11, 2, 129], [28, 11, 2, 129, 130], [28, 11, 2, 129, 130, 131], [132, 2], [132, 2, 17], [132, 2, 17, 1], [132, 2, 17, 1, 49], [132, 2, 17, 1, 49, 40], [133, 19], [133, 19, 134], [133, 19, 134, 25], [133, 19, 134, 25, 18], [133, 19, 134, 25, 18, 135], [133, 19, 134, 25, 18, 135, 18], [133, 19, 134, 25, 18, 135, 18, 136], [2, 137], [2, 137, 26], [2, 137, 26, 138], [2, 137, 26, 138, 139], [2, 137, 26, 138, 139, 4], [2, 137, 26, 138, 139, 4, 140], [2, 137, 26, 138, 139, 4, 140, 55], [2, 137, 26, 138, 139, 4, 140, 55, 141], [142, 143], [142, 143, 144], [142, 143, 144, 1], [142, 143, 144, 1, 2], [142, 143, 144, 1, 2, 145], [142, 143, 144, 1, 2, 145, 146], [142, 143, 144, 1, 2, 145, 146, 147], [5, 148], [5, 148, 149], [5, 148, 149, 12], [5, 148, 149, 12, 9], [5, 148, 149, 12, 9, 10], [19, 11], [19, 11, 150], [19, 11, 150, 5], [19, 11, 150, 5, 151], [19, 11, 150, 5, 151, 8], [19, 11, 150, 5, 151, 8, 152], [19, 11, 150, 5, 151, 8, 152, 153], [5, 25], [5, 25, 2], [5, 25, 2, 154], [5, 25, 2, 154, 4], [5, 25, 2, 154, 4, 3], [5, 25, 2, 154, 4, 3, 155], [156, 1], [156, 1, 6], [156, 1, 6, 157], [156, 1, 6, 157, 158], [156, 1, 6, 157, 158, 56], [156, 1, 6, 157, 158, 56, 159], [1, 51], [1, 51, 57], [1, 51, 57, 2], [1, 51, 57, 2, 160], [1, 51, 57, 2, 160, 8], [1, 51, 57, 2, 160, 8, 3], [1, 51, 57, 2, 160, 8, 3, 161], [1, 51, 57, 2, 160, 8, 3, 161, 1], [1, 51, 57, 2, 160, 8, 3, 161, 1, 3], [1, 51, 57, 2, 160, 8, 3, 161, 1, 3, 162], [163, 164], [163, 164, 165], [163, 164, 165, 2], [163, 164, 165, 2, 17], [163, 164, 165, 2, 17, 23], [163, 164, 165, 2, 17, 23, 5], [163, 164, 165, 2, 17, 23, 5, 166], [163, 164, 165, 2, 17, 23, 5, 166, 12], [163, 164, 165, 2, 17, 23, 5, 166, 12, 52], [58, 20], [58, 20, 167], [58, 20, 167, 168], [58, 20, 167, 168, 2], [58, 20, 167, 168, 2, 169], [58, 20, 167, 168, 2, 169, 170], [58, 20, 167, 168, 2, 169, 170, 171], [7, 6], [7, 6, 35], [7, 6, 35, 29], [7, 6, 35, 29, 30], [7, 6, 35, 29, 30, 12], [7, 6, 35, 29, 30, 12, 172], [7, 6, 35, 29, 30, 12, 172, 173], [36, 37], [36, 37, 38], [36, 37, 38, 7], [36, 37, 38, 7, 9], [36, 37, 38, 7, 9, 10], [29, 39], [29, 39, 30], [29, 39, 30, 6], [29, 39, 30, 6, 35], [29, 39, 30, 6, 35, 31], [29, 39, 30, 6, 35, 31, 4], [29, 39, 30, 6, 35, 31, 4, 59], [29, 39], [29, 39, 30], [29, 39, 30, 13], [29, 39, 30, 13, 174], [29, 39, 30, 13, 174, 175], [29, 39, 30, 13, 174, 175, 12], [29, 39, 30, 13, 174, 175, 12, 5], [29, 39], [29, 39, 30], [29, 39, 30, 6], [29, 39, 30, 6, 35], [29, 39, 30, 6, 35, 31], [29, 39, 30, 6, 35, 31, 4], [29, 39, 30, 6, 35, 31, 4, 59], [36, 37], [36, 37, 38], [36, 37, 38, 7], [36, 37, 38, 7, 9], [36, 37, 38, 7, 9, 10], [14, 15], [14, 15, 32], [14, 15, 32, 1], [14, 15, 32, 1, 6], [14, 15, 32, 1, 6, 15], [14, 15, 32, 1, 6, 15, 4], [14, 15, 32, 1, 6, 15, 4, 22], [6, 15], [6, 15, 32], [6, 15, 32, 1], [6, 15, 32, 1, 14], [6, 15, 32, 1, 14, 15], [6, 15, 32, 1, 14, 15, 4], [6, 15, 32, 1, 14, 15, 4, 22], [14, 15], [14, 15, 32], [14, 15, 32, 1], [14, 15, 32, 1, 6], [14, 15, 32, 1, 6, 15], [14, 15, 32, 1, 6, 15, 4], [14, 15, 32, 1, 6, 15, 4, 22], [36, 37], [36, 37, 38], [36, 37, 38, 7], [36, 37, 38, 7, 9], [36, 37, 38, 7, 9, 10], [24, 11], [24, 11, 5], [24, 11, 5, 50], [24, 11, 5, 50, 1], [24, 11, 5, 50, 1, 2], [24, 11, 5, 50, 1, 2, 17], [24, 11, 5, 50, 1, 2, 17, 19], [24, 11, 5, 50, 1, 2, 17, 19, 11], [24, 11, 5, 50, 1, 2, 17, 19, 11, 176], [1, 58], [1, 58, 5], [1, 58, 5, 177], [1, 58, 5, 177, 4], [1, 58, 5, 177, 4, 178], [1, 58, 5, 177, 4, 178, 1], [1, 58, 5, 177, 4, 178, 1, 179], [20, 60], [20, 60, 180], [20, 60, 180, 181], [20, 60, 180, 181, 182], [20, 60, 180, 181, 182, 183], [20, 60, 180, 181, 182, 183, 184], [61, 16], [61, 16, 185], [61, 16, 185, 62], [61, 16, 185, 62, 186], [61, 16, 185, 62, 186, 63], [61, 16, 185, 62, 186, 63, 187], [61, 16, 185, 62, 186, 63, 187, 188], [189, 190], [189, 190, 64], [189, 190, 64, 1], [189, 190, 64, 1, 191], [189, 190, 64, 1, 191, 192], [189, 190, 64, 1, 191, 192, 193], [194, 7], [194, 7, 27], [194, 7, 27, 195], [194, 7, 27, 195, 1], [194, 7, 27, 195, 1, 196], [194, 7, 27, 195, 1, 196, 57], [194, 7, 27, 195, 1, 196, 57, 5], [197, 198], [197, 198, 26], [197, 198, 26, 199], [197, 198, 26, 199, 200], [197, 198, 26, 199, 200, 201], [197, 198, 26, 199, 200, 201, 202], [20, 21], [20, 21, 203], [20, 21, 203, 204], [20, 21, 203, 204, 12], [20, 21, 203, 204, 12, 9], [20, 21, 203, 204, 12, 9, 10], [4, 2], [4, 2, 205], [4, 2, 205, 8], [4, 2, 205, 8, 2], [4, 2, 205, 8, 2, 206], [4, 2, 205, 8, 2, 206, 63], [4, 2, 205, 8, 2, 206, 63, 207], [4, 2, 205, 8, 2, 206, 63, 207, 64], [27, 208], [27, 208, 12], [27, 208, 12, 2], [27, 208, 12, 2, 209], [27, 208, 12, 2, 209, 54], [27, 208, 12, 2, 209, 54, 18], [27, 208, 12, 2, 209, 54, 18, 210], [27, 208, 12, 2, 209, 54, 18, 210, 18], [27, 208, 12, 2, 209, 54, 18, 210, 18, 3], [27, 208, 12, 2, 209, 54, 18, 210, 18, 3, 211], [212, 8], [212, 8, 2], [212, 8, 2, 213], [212, 8, 2, 213, 214], [212, 8, 2, 213, 214, 14], [212, 8, 2, 213, 214, 14, 34], [212, 8, 2, 213, 214, 14, 34, 215], [14, 216], [14, 216, 3], [14, 216, 3, 217], [14, 216, 3, 217, 218], [14, 216, 3, 217, 218, 219], [14, 216, 3, 217, 218, 219, 220], [14, 216, 3, 217, 218, 219, 220, 6], [14, 216, 3, 217, 218, 219, 220, 6, 221], [27, 222], [27, 222, 223], [27, 222, 223, 224], [27, 222, 223, 224, 225], [27, 222, 223, 224, 225, 226], [27, 222, 223, 224, 225, 226, 1], [27, 222, 223, 224, 225, 226, 1, 227], [44, 21], [44, 21, 228], [44, 21, 228, 16], [44, 21, 228, 16, 229], [44, 21, 228, 16, 229, 230], [44, 21, 228, 16, 229, 230, 231], [44, 21, 228, 16, 229, 230, 231, 32], [44, 21, 228, 16, 229, 230, 231, 32, 232], [44, 21, 228, 16, 229, 230, 231, 32, 232, 2], [44, 21, 228, 16, 229, 230, 231, 32, 232, 2, 45], [233, 2], [233, 2, 41], [233, 2, 41, 62], [233, 2, 41, 62, 65], [233, 2, 41, 62, 65, 234], [233, 2, 41, 62, 65, 234, 2], [233, 2, 41, 62, 65, 234, 2, 235], [1, 236], [1, 236, 5], [1, 236, 5, 2], [1, 236, 5, 2, 237], [1, 236, 5, 2, 237, 12], [1, 236, 5, 2, 237, 12, 9], [1, 236, 5, 2, 237, 12, 9, 10], [24, 238], [24, 238, 24], [24, 238, 24, 239], [24, 238, 24, 239, 240], [24, 238, 24, 239, 240, 28], [24, 238, 24, 239, 240, 28, 11], [24, 238, 24, 239, 240, 28, 11, 241], [46, 23], [46, 23, 3], [46, 23, 3, 242], [46, 23, 3, 242, 65], [46, 23, 3, 242, 65, 243], [46, 23, 3, 242, 65, 243, 244], [46, 23, 3, 242, 65, 243, 244, 245], [6, 53], [6, 53, 246], [6, 53, 246, 13], [6, 53, 246, 13, 16], [6, 53, 246, 13, 16, 247], [1, 248], [1, 248, 31], [1, 248, 31, 3], [1, 248, 31, 3, 249], [1, 248, 31, 3, 249, 250], [55, 251], [55, 251, 2], [55, 251, 2, 252], [55, 251, 2, 252, 34], [55, 251, 2, 252, 34, 253], [55, 251, 2, 252, 34, 253, 254], [55, 251, 2, 252, 34, 253, 254, 255], [19, 256], [19, 256, 31], [19, 256, 31, 16], [19, 256, 31, 16, 257], [19, 256, 31, 16, 257, 258], [19, 256, 31, 16, 257, 258, 259], [19, 256, 31, 16, 257, 258, 259, 1], [19, 256, 31, 16, 257, 258, 259, 1, 5], [2, 17], [2, 17, 4], [2, 17, 4, 56], [2, 17, 4, 56, 260], [2, 17, 4, 56, 260, 19], [2, 17, 4, 56, 260, 19, 23], [2, 17, 4, 56, 260, 19, 23, 5], [2, 17, 4, 56, 260, 19, 23, 5, 261], [1, 26], [1, 26, 61], [1, 26, 61, 60], [1, 26, 61, 60, 262], [1, 26, 61, 60, 262, 13], [1, 26, 61, 60, 262, 13, 9], [1, 26, 61, 60, 262, 13, 9, 10]]\n"
          ]
        }
      ]
    },
    {
      "cell_type": "code",
      "metadata": {
        "id": "pJtwVB2NbOAP"
      },
      "source": [
        "# 각 단어에 대한 토큰 출력(잘 처리했는지 확인)\n",
        "print(tokenizer.word_index['in'])\n",
        "print(tokenizer.word_index['the'])\n",
        "print(tokenizer.word_index['town'])\n",
        "print(tokenizer.word_index['of'])\n",
        "print(tokenizer.word_index['athy'])\n",
        "print(tokenizer.word_index['one'])\n",
        "print(tokenizer.word_index['jeremy'])\n",
        "print(tokenizer.word_index['lanigan'])"
      ],
      "execution_count": 4,
      "outputs": [
        {
          "output_type": "stream",
          "name": "stdout",
          "text": [
            "4\n2\n66\n8\n67\n68\n69\n70\n"
          ]
        }
      ]
    },
    {
      "cell_type": "code",
      "metadata": {
        "id": "49Cv68JOakwv"
      },
      "source": [
        "print(xs[6]) # 입력값 확인. 잘 나온다. "
      ],
      "execution_count": 9,
      "outputs": [
        {
          "output_type": "stream",
          "name": "stdout",
          "text": [
            "[ 0  0  0  4  2 66  8 67 68 69]\n"
          ]
        }
      ]
    },
    {
      "cell_type": "code",
      "metadata": {
        "id": "iY-jwvfgbEF8"
      },
      "source": [
        "print(ys[6]) # 원-핫-인코딩 잘되었는지 확인. 리스트 크기가 웅장하다. "
      ],
      "execution_count": 10,
      "outputs": [
        {
          "output_type": "stream",
          "name": "stdout",
          "text": [
            "[0. 0. 0. 0. 0. 0. 0. 0. 0. 0. 0. 0. 0. 0. 0. 0. 0. 0. 0. 0. 0. 0. 0. 0.\n 0. 0. 0. 0. 0. 0. 0. 0. 0. 0. 0. 0. 0. 0. 0. 0. 0. 0. 0. 0. 0. 0. 0. 0.\n 0. 0. 0. 0. 0. 0. 0. 0. 0. 0. 0. 0. 0. 0. 0. 0. 0. 0. 0. 0. 0. 0. 1. 0.\n 0. 0. 0. 0. 0. 0. 0. 0. 0. 0. 0. 0. 0. 0. 0. 0. 0. 0. 0. 0. 0. 0. 0. 0.\n 0. 0. 0. 0. 0. 0. 0. 0. 0. 0. 0. 0. 0. 0. 0. 0. 0. 0. 0. 0. 0. 0. 0. 0.\n 0. 0. 0. 0. 0. 0. 0. 0. 0. 0. 0. 0. 0. 0. 0. 0. 0. 0. 0. 0. 0. 0. 0. 0.\n 0. 0. 0. 0. 0. 0. 0. 0. 0. 0. 0. 0. 0. 0. 0. 0. 0. 0. 0. 0. 0. 0. 0. 0.\n 0. 0. 0. 0. 0. 0. 0. 0. 0. 0. 0. 0. 0. 0. 0. 0. 0. 0. 0. 0. 0. 0. 0. 0.\n 0. 0. 0. 0. 0. 0. 0. 0. 0. 0. 0. 0. 0. 0. 0. 0. 0. 0. 0. 0. 0. 0. 0. 0.\n 0. 0. 0. 0. 0. 0. 0. 0. 0. 0. 0. 0. 0. 0. 0. 0. 0. 0. 0. 0. 0. 0. 0. 0.\n 0. 0. 0. 0. 0. 0. 0. 0. 0. 0. 0. 0. 0. 0. 0. 0. 0. 0. 0. 0. 0. 0. 0.]\n"
          ]
        }
      ]
    },
    {
      "cell_type": "code",
      "metadata": {
        "id": "wtzlUMYadhKt"
      },
      "source": [
        "print(xs[5])\n",
        "print(ys[5])"
      ],
      "execution_count": 11,
      "outputs": [
        {
          "output_type": "stream",
          "name": "stdout",
          "text": [
            "[ 0  0  0  0  4  2 66  8 67 68]\n[0. 0. 0. 0. 0. 0. 0. 0. 0. 0. 0. 0. 0. 0. 0. 0. 0. 0. 0. 0. 0. 0. 0. 0.\n 0. 0. 0. 0. 0. 0. 0. 0. 0. 0. 0. 0. 0. 0. 0. 0. 0. 0. 0. 0. 0. 0. 0. 0.\n 0. 0. 0. 0. 0. 0. 0. 0. 0. 0. 0. 0. 0. 0. 0. 0. 0. 0. 0. 0. 0. 1. 0. 0.\n 0. 0. 0. 0. 0. 0. 0. 0. 0. 0. 0. 0. 0. 0. 0. 0. 0. 0. 0. 0. 0. 0. 0. 0.\n 0. 0. 0. 0. 0. 0. 0. 0. 0. 0. 0. 0. 0. 0. 0. 0. 0. 0. 0. 0. 0. 0. 0. 0.\n 0. 0. 0. 0. 0. 0. 0. 0. 0. 0. 0. 0. 0. 0. 0. 0. 0. 0. 0. 0. 0. 0. 0. 0.\n 0. 0. 0. 0. 0. 0. 0. 0. 0. 0. 0. 0. 0. 0. 0. 0. 0. 0. 0. 0. 0. 0. 0. 0.\n 0. 0. 0. 0. 0. 0. 0. 0. 0. 0. 0. 0. 0. 0. 0. 0. 0. 0. 0. 0. 0. 0. 0. 0.\n 0. 0. 0. 0. 0. 0. 0. 0. 0. 0. 0. 0. 0. 0. 0. 0. 0. 0. 0. 0. 0. 0. 0. 0.\n 0. 0. 0. 0. 0. 0. 0. 0. 0. 0. 0. 0. 0. 0. 0. 0. 0. 0. 0. 0. 0. 0. 0. 0.\n 0. 0. 0. 0. 0. 0. 0. 0. 0. 0. 0. 0. 0. 0. 0. 0. 0. 0. 0. 0. 0. 0. 0.]\n"
          ]
        }
      ]
    },
    {
      "cell_type": "code",
      "metadata": {
        "id": "H4myRpB1c4Gg"
      },
      "source": [
        "print(tokenizer.word_index)"
      ],
      "execution_count": 12,
      "outputs": [
        {
          "output_type": "stream",
          "name": "stdout",
          "text": [
            "{'and': 1, 'the': 2, 'a': 3, 'in': 4, 'all': 5, 'i': 6, 'for': 7, 'of': 8, 'lanigans': 9, 'ball': 10, 'were': 11, 'at': 12, 'to': 13, 'she': 14, 'stepped': 15, 'his': 16, 'girls': 17, 'as': 18, 'they': 19, 'til': 20, 'he': 21, 'again': 22, 'got': 23, 'boys': 24, 'round': 25, 'that': 26, 'her': 27, 'there': 28, 'three': 29, 'weeks': 30, 'up': 31, 'out': 32, 'him': 33, 'was': 34, 'spent': 35, 'learning': 36, 'new': 37, 'steps': 38, 'long': 39, 'away': 40, 'left': 41, 'friends': 42, 'relations': 43, 'when': 44, 'wall': 45, 'myself': 46, 'nice': 47, 'just': 48, 'dancing': 49, 'merry': 50, 'tipped': 51, 'me': 52, 'soon': 53, 'time': 54, 'old': 55, 'their': 56, 'them': 57, 'danced': 58, 'dublin': 59, 'an': 60, 'put': 61, 'leg': 62, 'miss': 63, 'fainted': 64, 'from': 65, 'town': 66, 'athy': 67, 'one': 68, 'jeremy': 69, 'lanigan': 70, 'battered': 71, 'hadnt': 72, 'pound': 73, 'father': 74, 'died': 75, 'made': 76, 'man': 77, 'farm': 78, 'ten': 79, 'acres': 80, 'ground': 81, 'gave': 82, 'grand': 83, 'party': 84, 'who': 85, 'didnt': 86, 'forget': 87, 'come': 88, 'if': 89, 'youll': 90, 'but': 91, 'listen': 92, 'ill': 93, 'make': 94, 'your': 95, 'eyes': 96, 'glisten': 97, 'rows': 98, 'ructions': 99, 'be': 100, 'sure': 101, 'free': 102, 'invitation': 103, 'might': 104, 'ask': 105, 'minute': 106, 'both': 107, 'bees': 108, 'cask': 109, 'judy': 110, 'odaly': 111, 'little': 112, 'milliner': 113, 'wink': 114, 'give': 115, 'call': 116, 'arrived': 117, 'with': 118, 'peggy': 119, 'mcgilligan': 120, 'lashings': 121, 'punch': 122, 'wine': 123, 'ladies': 124, 'potatoes': 125, 'cakes': 126, 'bacon': 127, 'tea': 128, 'nolans': 129, 'dolans': 130, 'ogradys': 131, 'courting': 132, 'songs': 133, 'went': 134, 'plenty': 135, 'water': 136, 'harp': 137, 'once': 138, 'sounded': 139, 'taras': 140, 'hall': 141, 'sweet': 142, 'nelly': 143, 'gray': 144, 'rat': 145, 'catchers': 146, 'daughter': 147, 'singing': 148, 'together': 149, 'doing': 150, 'kinds': 151, 'nonsensical': 152, 'polkas': 153, 'room': 154, 'whirligig': 155, 'julia': 156, 'we': 157, 'banished': 158, 'nonsense': 159, 'twist': 160, 'reel': 161, 'jig': 162, 'ach': 163, 'mavrone': 164, 'how': 165, 'mad': 166, 'youd': 167, 'think': 168, 'ceiling': 169, 'would': 170, 'fall': 171, 'brooks': 172, 'academy': 173, 'learn': 174, 'nothing': 175, 'hearty': 176, 'around': 177, 'couples': 178, 'groups': 179, 'accident': 180, 'happened': 181, 'young': 182, 'terrance': 183, 'mccarthy': 184, 'right': 185, 'through': 186, 'finnertys': 187, 'hoops': 188, 'poor': 189, 'creature': 190, 'cried': 191, 'meelia': 192, 'murther': 193, 'called': 194, 'brothers': 195, 'gathered': 196, 'carmody': 197, 'swore': 198, 'hed': 199, 'go': 200, 'no': 201, 'further': 202, 'had': 203, 'satisfaction': 204, 'midst': 205, 'row': 206, 'kerrigan': 207, 'cheeks': 208, 'same': 209, 'red': 210, 'rose': 211, 'some': 212, 'lads': 213, 'declared': 214, 'painted': 215, 'took': 216, 'small': 217, 'drop': 218, 'too': 219, 'much': 220, 'suppose': 221, 'sweetheart': 222, 'ned': 223, 'morgan': 224, 'so': 225, 'powerful': 226, 'able': 227, 'saw': 228, 'fair': 229, 'colleen': 230, 'stretched': 231, 'by': 232, 'tore': 233, 'under': 234, 'table': 235, 'smashed': 236, 'chaneys': 237, 'oh': 238, 'twas': 239, 'then': 240, 'runctions': 241, 'lick': 242, 'big': 243, 'phelim': 244, 'mchugh': 245, 'replied': 246, 'introduction': 247, 'kicked': 248, 'terrible': 249, 'hullabaloo': 250, 'casey': 251, 'piper': 252, 'near': 253, 'being': 254, 'strangled': 255, 'squeezed': 256, 'pipes': 257, 'bellows': 258, 'chanters': 259, 'ribbons': 260, 'entangled': 261, 'end': 262}\n"
          ]
        }
      ]
    },
    {
      "cell_type": "code",
      "metadata": {
        "id": "w9vH8Y59ajYL",
        "tags": [
          "outputPrepend"
        ]
      },
      "source": [
        "  # 모델 생성.이번에는 빈 모델로 초기화한 다음 레이어를 한 층씩 추가하는 방식으로 모델을 만들었다. 왜 이렇게 한건지는 잘 모르겠다. 근데 난 이게 더 가독성이 좋아서 선호하는 방식이다. \n",
        "  model = Sequential()\n",
        "  # 임베딩 레이어의 차원, LSTM의 가중치 개수, 학습률(learning rate)으로 모델 성능을 설정할 수 있다. \n",
        "  model.add(Embedding(total_words, 64, input_length=max_sequence_len-1)) # 1을 빼는 이유는 맨 마지막 값은 Y값(label)이기 때문.\n",
        "  model.add(Bidirectional(LSTM(20))) # Bidirectional이 없으면, 그러니까 model.add(LSTM(20))를 쓰면 같은 단어가 연달아 튀어나오는 일이 잦다. 왜냐하면 그냥 LSTM은 앞쪽으로만 문맥을 전달하기 때문. 앞뒤 모두 고려해야 하는데 말이지.\n",
        "  # Bidirectional를 더하면 좀 줄긴 한다. 근데도 단어가 반복되는 현상이 나타나는데 이유는 토커나이저에 쓰인 데이터가 빈약하기 때문이다. \n",
        "  model.add(Dense(total_words, activation='softmax')) # 토큰화한 단어 개수만큼 뉴런이 존재 -> 단어 하나에 뉴런 하나 \n",
        "  model.compile(loss='categorical_crossentropy', optimizer='adam', metrics=['accuracy'])\n",
        "  history = model.fit(xs, ys, epochs=500, verbose=1) # 정확도 약 94%가 나온다. \n"
      ],
      "execution_count": 13,
      "outputs": [
        {
          "output_type": "stream",
          "name": "stdout",
          "text": [
            "4\n",
            "Epoch 303/500\n",
            "15/15 [==============================] - 0s 4ms/step - loss: 0.2920 - accuracy: 0.9451\n",
            "Epoch 304/500\n",
            "15/15 [==============================] - 0s 4ms/step - loss: 0.3013 - accuracy: 0.9435\n",
            "Epoch 305/500\n",
            "15/15 [==============================] - 0s 4ms/step - loss: 0.2685 - accuracy: 0.9693\n",
            "Epoch 306/500\n",
            "15/15 [==============================] - 0s 4ms/step - loss: 0.2800 - accuracy: 0.9628\n",
            "Epoch 307/500\n",
            "15/15 [==============================] - 0s 4ms/step - loss: 0.2805 - accuracy: 0.9443\n",
            "Epoch 308/500\n",
            "15/15 [==============================] - 0s 4ms/step - loss: 0.2738 - accuracy: 0.9510\n",
            "Epoch 309/500\n",
            "15/15 [==============================] - 0s 4ms/step - loss: 0.2577 - accuracy: 0.9548\n",
            "Epoch 310/500\n",
            "15/15 [==============================] - 0s 4ms/step - loss: 0.2896 - accuracy: 0.9375\n",
            "Epoch 311/500\n",
            "15/15 [==============================] - 0s 4ms/step - loss: 0.2795 - accuracy: 0.9459\n",
            "Epoch 312/500\n",
            "15/15 [==============================] - 0s 5ms/step - loss: 0.2953 - accuracy: 0.9303\n",
            "Epoch 313/500\n",
            "15/15 [==============================] - 0s 4ms/step - loss: 0.2531 - accuracy: 0.9500\n",
            "Epoch 314/500\n",
            "15/15 [==============================] - 0s 4ms/step - loss: 0.2585 - accuracy: 0.9630\n",
            "Epoch 315/500\n",
            "15/15 [==============================] - 0s 5ms/step - loss: 0.2555 - accuracy: 0.9518\n",
            "Epoch 316/500\n",
            "15/15 [==============================] - 0s 5ms/step - loss: 0.2650 - accuracy: 0.9542\n",
            "Epoch 317/500\n",
            "15/15 [==============================] - 0s 4ms/step - loss: 0.2544 - accuracy: 0.9618\n",
            "Epoch 318/500\n",
            "15/15 [==============================] - 0s 4ms/step - loss: 0.2986 - accuracy: 0.9545\n",
            "Epoch 319/500\n",
            "15/15 [==============================] - 0s 4ms/step - loss: 0.2850 - accuracy: 0.9591\n",
            "Epoch 320/500\n",
            "15/15 [==============================] - 0s 4ms/step - loss: 0.2566 - accuracy: 0.9627\n",
            "Epoch 321/500\n",
            "15/15 [==============================] - 0s 4ms/step - loss: 0.2470 - accuracy: 0.9646\n",
            "Epoch 322/500\n",
            "15/15 [==============================] - 0s 4ms/step - loss: 0.2724 - accuracy: 0.9471\n",
            "Epoch 323/500\n",
            "15/15 [==============================] - 0s 4ms/step - loss: 0.2398 - accuracy: 0.9602\n",
            "Epoch 324/500\n",
            "15/15 [==============================] - 0s 4ms/step - loss: 0.2579 - accuracy: 0.9521\n",
            "Epoch 325/500\n",
            "15/15 [==============================] - 0s 4ms/step - loss: 0.2609 - accuracy: 0.9377\n",
            "Epoch 326/500\n",
            "15/15 [==============================] - 0s 4ms/step - loss: 0.2527 - accuracy: 0.9465\n",
            "Epoch 327/500\n",
            "15/15 [==============================] - 0s 4ms/step - loss: 0.2802 - accuracy: 0.9402\n",
            "Epoch 328/500\n",
            "15/15 [==============================] - 0s 4ms/step - loss: 0.2536 - accuracy: 0.9457\n",
            "Epoch 329/500\n",
            "15/15 [==============================] - 0s 4ms/step - loss: 0.2492 - accuracy: 0.9527\n",
            "Epoch 330/500\n",
            "15/15 [==============================] - 0s 4ms/step - loss: 0.2473 - accuracy: 0.9495\n",
            "Epoch 331/500\n",
            "15/15 [==============================] - 0s 4ms/step - loss: 0.2373 - accuracy: 0.9501\n",
            "Epoch 332/500\n",
            "15/15 [==============================] - 0s 4ms/step - loss: 0.2299 - accuracy: 0.9534\n",
            "Epoch 333/500\n",
            "15/15 [==============================] - 0s 4ms/step - loss: 0.2152 - accuracy: 0.9511\n",
            "Epoch 334/500\n",
            "15/15 [==============================] - 0s 4ms/step - loss: 0.2260 - accuracy: 0.9473\n",
            "Epoch 335/500\n",
            "15/15 [==============================] - 0s 4ms/step - loss: 0.2300 - accuracy: 0.9574\n",
            "Epoch 336/500\n",
            "15/15 [==============================] - 0s 4ms/step - loss: 0.2317 - accuracy: 0.9566\n",
            "Epoch 337/500\n",
            "15/15 [==============================] - 0s 4ms/step - loss: 0.2334 - accuracy: 0.9584\n",
            "Epoch 338/500\n",
            "15/15 [==============================] - 0s 4ms/step - loss: 0.2275 - accuracy: 0.9520\n",
            "Epoch 339/500\n",
            "15/15 [==============================] - 0s 4ms/step - loss: 0.2227 - accuracy: 0.9559\n",
            "Epoch 340/500\n",
            "15/15 [==============================] - 0s 4ms/step - loss: 0.2208 - accuracy: 0.9477\n",
            "Epoch 341/500\n",
            "15/15 [==============================] - 0s 5ms/step - loss: 0.2169 - accuracy: 0.9569\n",
            "Epoch 342/500\n",
            "15/15 [==============================] - 0s 4ms/step - loss: 0.2022 - accuracy: 0.9612\n",
            "Epoch 343/500\n",
            "15/15 [==============================] - 0s 4ms/step - loss: 0.2222 - accuracy: 0.9534\n",
            "Epoch 344/500\n",
            "15/15 [==============================] - 0s 4ms/step - loss: 0.2376 - accuracy: 0.9426\n",
            "Epoch 345/500\n",
            "15/15 [==============================] - 0s 4ms/step - loss: 0.2208 - accuracy: 0.9485\n",
            "Epoch 346/500\n",
            "15/15 [==============================] - 0s 4ms/step - loss: 0.2335 - accuracy: 0.9556\n",
            "Epoch 347/500\n",
            "15/15 [==============================] - 0s 4ms/step - loss: 0.1960 - accuracy: 0.9575\n",
            "Epoch 348/500\n",
            "15/15 [==============================] - 0s 4ms/step - loss: 0.2092 - accuracy: 0.9544\n",
            "Epoch 349/500\n",
            "15/15 [==============================] - 0s 4ms/step - loss: 0.2215 - accuracy: 0.9512\n",
            "Epoch 350/500\n",
            "15/15 [==============================] - 0s 4ms/step - loss: 0.2203 - accuracy: 0.9472\n",
            "Epoch 351/500\n",
            "15/15 [==============================] - 0s 4ms/step - loss: 0.2016 - accuracy: 0.9593\n",
            "Epoch 352/500\n",
            "15/15 [==============================] - 0s 4ms/step - loss: 0.2202 - accuracy: 0.9559\n",
            "Epoch 353/500\n",
            "15/15 [==============================] - 0s 4ms/step - loss: 0.1986 - accuracy: 0.9626\n",
            "Epoch 354/500\n",
            "15/15 [==============================] - 0s 4ms/step - loss: 0.2237 - accuracy: 0.9429\n",
            "Epoch 355/500\n",
            "15/15 [==============================] - 0s 4ms/step - loss: 0.1980 - accuracy: 0.9534\n",
            "Epoch 356/500\n",
            "15/15 [==============================] - 0s 4ms/step - loss: 0.2181 - accuracy: 0.9529\n",
            "Epoch 357/500\n",
            "15/15 [==============================] - 0s 4ms/step - loss: 0.1978 - accuracy: 0.9560\n",
            "Epoch 358/500\n",
            "15/15 [==============================] - 0s 4ms/step - loss: 0.1995 - accuracy: 0.9514\n",
            "Epoch 359/500\n",
            "15/15 [==============================] - 0s 3ms/step - loss: 0.1948 - accuracy: 0.9545\n",
            "Epoch 360/500\n",
            "15/15 [==============================] - 0s 4ms/step - loss: 0.2032 - accuracy: 0.9592\n",
            "Epoch 361/500\n",
            "15/15 [==============================] - 0s 4ms/step - loss: 0.2162 - accuracy: 0.9518\n",
            "Epoch 362/500\n",
            "15/15 [==============================] - 0s 4ms/step - loss: 0.2181 - accuracy: 0.9471\n",
            "Epoch 363/500\n",
            "15/15 [==============================] - 0s 4ms/step - loss: 0.2051 - accuracy: 0.9520\n",
            "Epoch 364/500\n",
            "15/15 [==============================] - 0s 4ms/step - loss: 0.1861 - accuracy: 0.9525\n",
            "Epoch 365/500\n",
            "15/15 [==============================] - 0s 4ms/step - loss: 0.1901 - accuracy: 0.9530\n",
            "Epoch 366/500\n",
            "15/15 [==============================] - 0s 4ms/step - loss: 0.2313 - accuracy: 0.9327\n",
            "Epoch 367/500\n",
            "15/15 [==============================] - 0s 4ms/step - loss: 0.1980 - accuracy: 0.9366\n",
            "Epoch 368/500\n",
            "15/15 [==============================] - 0s 7ms/step - loss: 0.2116 - accuracy: 0.9344\n",
            "Epoch 369/500\n",
            "15/15 [==============================] - 0s 4ms/step - loss: 0.1932 - accuracy: 0.9461\n",
            "Epoch 370/500\n",
            "15/15 [==============================] - 0s 4ms/step - loss: 0.1863 - accuracy: 0.9509\n",
            "Epoch 371/500\n",
            "15/15 [==============================] - 0s 4ms/step - loss: 0.1946 - accuracy: 0.9577\n",
            "Epoch 372/500\n",
            "15/15 [==============================] - 0s 4ms/step - loss: 0.1647 - accuracy: 0.9622\n",
            "Epoch 373/500\n",
            "15/15 [==============================] - 0s 4ms/step - loss: 0.2107 - accuracy: 0.9439\n",
            "Epoch 374/500\n",
            "15/15 [==============================] - 0s 4ms/step - loss: 0.1779 - accuracy: 0.9555\n",
            "Epoch 375/500\n",
            "15/15 [==============================] - 0s 4ms/step - loss: 0.1941 - accuracy: 0.9541\n",
            "Epoch 376/500\n",
            "15/15 [==============================] - 0s 4ms/step - loss: 0.2002 - accuracy: 0.9480\n",
            "Epoch 377/500\n",
            "15/15 [==============================] - 0s 4ms/step - loss: 0.1618 - accuracy: 0.9603\n",
            "Epoch 378/500\n",
            "15/15 [==============================] - 0s 4ms/step - loss: 0.1664 - accuracy: 0.9600\n",
            "Epoch 379/500\n",
            "15/15 [==============================] - 0s 4ms/step - loss: 0.1804 - accuracy: 0.9570\n",
            "Epoch 380/500\n",
            "15/15 [==============================] - 0s 5ms/step - loss: 0.1759 - accuracy: 0.9546\n",
            "Epoch 381/500\n",
            "15/15 [==============================] - 0s 4ms/step - loss: 0.1691 - accuracy: 0.9606\n",
            "Epoch 382/500\n",
            "15/15 [==============================] - 0s 4ms/step - loss: 0.1764 - accuracy: 0.9563\n",
            "Epoch 383/500\n",
            "15/15 [==============================] - 0s 4ms/step - loss: 0.1787 - accuracy: 0.9514\n",
            "Epoch 384/500\n",
            "15/15 [==============================] - 0s 4ms/step - loss: 0.1774 - accuracy: 0.9584\n",
            "Epoch 385/500\n",
            "15/15 [==============================] - 0s 4ms/step - loss: 0.1927 - accuracy: 0.9335\n",
            "Epoch 386/500\n",
            "15/15 [==============================] - 0s 4ms/step - loss: 0.1735 - accuracy: 0.9562\n",
            "Epoch 387/500\n",
            "15/15 [==============================] - 0s 4ms/step - loss: 0.1759 - accuracy: 0.9502\n",
            "Epoch 388/500\n",
            "15/15 [==============================] - 0s 4ms/step - loss: 0.1623 - accuracy: 0.9576\n",
            "Epoch 389/500\n",
            "15/15 [==============================] - 0s 4ms/step - loss: 0.1792 - accuracy: 0.9481\n",
            "Epoch 390/500\n",
            "15/15 [==============================] - 0s 4ms/step - loss: 0.1973 - accuracy: 0.9356\n",
            "Epoch 391/500\n",
            "15/15 [==============================] - 0s 4ms/step - loss: 0.1805 - accuracy: 0.9410\n",
            "Epoch 392/500\n",
            "15/15 [==============================] - 0s 4ms/step - loss: 0.1728 - accuracy: 0.9610\n",
            "Epoch 393/500\n",
            "15/15 [==============================] - 0s 4ms/step - loss: 0.1856 - accuracy: 0.9403\n",
            "Epoch 394/500\n",
            "15/15 [==============================] - 0s 4ms/step - loss: 0.1782 - accuracy: 0.9493\n",
            "Epoch 395/500\n",
            "15/15 [==============================] - 0s 5ms/step - loss: 0.1736 - accuracy: 0.9409\n",
            "Epoch 396/500\n",
            "15/15 [==============================] - 0s 4ms/step - loss: 0.1776 - accuracy: 0.9466\n",
            "Epoch 397/500\n",
            "15/15 [==============================] - 0s 4ms/step - loss: 0.1745 - accuracy: 0.9542\n",
            "Epoch 398/500\n",
            "15/15 [==============================] - 0s 5ms/step - loss: 0.2132 - accuracy: 0.9465\n",
            "Epoch 399/500\n",
            "15/15 [==============================] - 0s 4ms/step - loss: 0.2131 - accuracy: 0.9488\n",
            "Epoch 400/500\n",
            "15/15 [==============================] - 0s 4ms/step - loss: 0.2423 - accuracy: 0.9284\n",
            "Epoch 401/500\n",
            "15/15 [==============================] - 0s 4ms/step - loss: 0.2391 - accuracy: 0.9307\n",
            "Epoch 402/500\n",
            "15/15 [==============================] - 0s 4ms/step - loss: 0.2474 - accuracy: 0.9371\n",
            "Epoch 403/500\n",
            "15/15 [==============================] - 0s 4ms/step - loss: 0.2747 - accuracy: 0.9271\n",
            "Epoch 404/500\n",
            "15/15 [==============================] - 0s 4ms/step - loss: 0.2213 - accuracy: 0.9488\n",
            "Epoch 405/500\n",
            "15/15 [==============================] - 0s 4ms/step - loss: 0.2152 - accuracy: 0.9502\n",
            "Epoch 406/500\n",
            "15/15 [==============================] - 0s 4ms/step - loss: 0.2306 - accuracy: 0.9294\n",
            "Epoch 407/500\n",
            "15/15 [==============================] - 0s 4ms/step - loss: 0.2386 - accuracy: 0.9268\n",
            "Epoch 408/500\n",
            "15/15 [==============================] - 0s 4ms/step - loss: 0.2139 - accuracy: 0.9367\n",
            "Epoch 409/500\n",
            "15/15 [==============================] - 0s 4ms/step - loss: 0.2166 - accuracy: 0.9417\n",
            "Epoch 410/500\n",
            "15/15 [==============================] - 0s 4ms/step - loss: 0.2134 - accuracy: 0.9428\n",
            "Epoch 411/500\n",
            "15/15 [==============================] - 0s 4ms/step - loss: 0.1779 - accuracy: 0.9606\n",
            "Epoch 412/500\n",
            "15/15 [==============================] - 0s 4ms/step - loss: 0.1694 - accuracy: 0.9615\n",
            "Epoch 413/500\n",
            "15/15 [==============================] - 0s 4ms/step - loss: 0.1544 - accuracy: 0.9563\n",
            "Epoch 414/500\n",
            "15/15 [==============================] - 0s 4ms/step - loss: 0.1693 - accuracy: 0.9561\n",
            "Epoch 415/500\n",
            "15/15 [==============================] - 0s 4ms/step - loss: 0.1618 - accuracy: 0.9573\n",
            "Epoch 416/500\n",
            "15/15 [==============================] - 0s 4ms/step - loss: 0.1784 - accuracy: 0.9449\n",
            "Epoch 417/500\n",
            "15/15 [==============================] - 0s 4ms/step - loss: 0.1509 - accuracy: 0.9584\n",
            "Epoch 418/500\n",
            "15/15 [==============================] - 0s 4ms/step - loss: 0.1706 - accuracy: 0.9615\n",
            "Epoch 419/500\n",
            "15/15 [==============================] - 0s 4ms/step - loss: 0.1681 - accuracy: 0.9404\n",
            "Epoch 420/500\n",
            "15/15 [==============================] - 0s 5ms/step - loss: 0.1610 - accuracy: 0.9550\n",
            "Epoch 421/500\n",
            "15/15 [==============================] - 0s 4ms/step - loss: 0.1394 - accuracy: 0.9692\n",
            "Epoch 422/500\n",
            "15/15 [==============================] - 0s 4ms/step - loss: 0.1464 - accuracy: 0.9549\n",
            "Epoch 423/500\n",
            "15/15 [==============================] - 0s 4ms/step - loss: 0.1596 - accuracy: 0.9601\n",
            "Epoch 424/500\n",
            "15/15 [==============================] - 0s 4ms/step - loss: 0.1525 - accuracy: 0.9480\n",
            "Epoch 425/500\n",
            "15/15 [==============================] - 0s 4ms/step - loss: 0.1397 - accuracy: 0.9675\n",
            "Epoch 426/500\n",
            "15/15 [==============================] - 0s 4ms/step - loss: 0.1549 - accuracy: 0.9530\n",
            "Epoch 427/500\n",
            "15/15 [==============================] - 0s 4ms/step - loss: 0.1681 - accuracy: 0.9503\n",
            "Epoch 428/500\n",
            "15/15 [==============================] - 0s 4ms/step - loss: 0.1560 - accuracy: 0.9412\n",
            "Epoch 429/500\n",
            "15/15 [==============================] - 0s 4ms/step - loss: 0.1628 - accuracy: 0.9486\n",
            "Epoch 430/500\n",
            "15/15 [==============================] - 0s 4ms/step - loss: 0.1537 - accuracy: 0.9539\n",
            "Epoch 431/500\n",
            "15/15 [==============================] - 0s 4ms/step - loss: 0.1591 - accuracy: 0.9508\n",
            "Epoch 432/500\n",
            "15/15 [==============================] - 0s 4ms/step - loss: 0.1608 - accuracy: 0.9512\n",
            "Epoch 433/500\n",
            "15/15 [==============================] - 0s 4ms/step - loss: 0.1313 - accuracy: 0.9559\n",
            "Epoch 434/500\n",
            "15/15 [==============================] - 0s 4ms/step - loss: 0.1322 - accuracy: 0.9632\n",
            "Epoch 435/500\n",
            "15/15 [==============================] - 0s 4ms/step - loss: 0.1240 - accuracy: 0.9645\n",
            "Epoch 436/500\n",
            "15/15 [==============================] - 0s 4ms/step - loss: 0.1397 - accuracy: 0.9482\n",
            "Epoch 437/500\n",
            "15/15 [==============================] - 0s 4ms/step - loss: 0.1434 - accuracy: 0.9597\n",
            "Epoch 438/500\n",
            "15/15 [==============================] - 0s 4ms/step - loss: 0.1446 - accuracy: 0.9608\n",
            "Epoch 439/500\n",
            "15/15 [==============================] - 0s 4ms/step - loss: 0.1813 - accuracy: 0.9497\n",
            "Epoch 440/500\n",
            "15/15 [==============================] - 0s 4ms/step - loss: 0.1715 - accuracy: 0.9471\n",
            "Epoch 441/500\n",
            "15/15 [==============================] - 0s 4ms/step - loss: 0.1580 - accuracy: 0.9478\n",
            "Epoch 442/500\n",
            "15/15 [==============================] - 0s 4ms/step - loss: 0.1407 - accuracy: 0.9514\n",
            "Epoch 443/500\n",
            "15/15 [==============================] - 0s 5ms/step - loss: 0.1437 - accuracy: 0.9546\n",
            "Epoch 444/500\n",
            "15/15 [==============================] - 0s 4ms/step - loss: 0.1307 - accuracy: 0.9543\n",
            "Epoch 445/500\n",
            "15/15 [==============================] - 0s 4ms/step - loss: 0.1454 - accuracy: 0.9513\n",
            "Epoch 446/500\n",
            "15/15 [==============================] - 0s 4ms/step - loss: 0.1291 - accuracy: 0.9558\n",
            "Epoch 447/500\n",
            "15/15 [==============================] - 0s 6ms/step - loss: 0.1459 - accuracy: 0.9488\n",
            "Epoch 448/500\n",
            "15/15 [==============================] - 0s 4ms/step - loss: 0.1504 - accuracy: 0.9420\n",
            "Epoch 449/500\n",
            "15/15 [==============================] - 0s 4ms/step - loss: 0.1457 - accuracy: 0.9529\n",
            "Epoch 450/500\n",
            "15/15 [==============================] - 0s 4ms/step - loss: 0.1590 - accuracy: 0.9490\n",
            "Epoch 451/500\n",
            "15/15 [==============================] - 0s 4ms/step - loss: 0.1316 - accuracy: 0.9630\n",
            "Epoch 452/500\n",
            "15/15 [==============================] - 0s 4ms/step - loss: 0.1256 - accuracy: 0.9543\n",
            "Epoch 453/500\n",
            "15/15 [==============================] - 0s 4ms/step - loss: 0.1532 - accuracy: 0.9424\n",
            "Epoch 454/500\n",
            "15/15 [==============================] - 0s 4ms/step - loss: 0.1562 - accuracy: 0.9401\n",
            "Epoch 455/500\n",
            "15/15 [==============================] - 0s 4ms/step - loss: 0.1390 - accuracy: 0.9458\n",
            "Epoch 456/500\n",
            "15/15 [==============================] - 0s 4ms/step - loss: 0.1447 - accuracy: 0.9421\n",
            "Epoch 457/500\n",
            "15/15 [==============================] - 0s 4ms/step - loss: 0.1451 - accuracy: 0.9414\n",
            "Epoch 458/500\n",
            "15/15 [==============================] - 0s 4ms/step - loss: 0.1641 - accuracy: 0.9458\n",
            "Epoch 459/500\n",
            "15/15 [==============================] - 0s 4ms/step - loss: 0.1386 - accuracy: 0.9580\n",
            "Epoch 460/500\n",
            "15/15 [==============================] - 0s 4ms/step - loss: 0.1489 - accuracy: 0.9404\n",
            "Epoch 461/500\n",
            "15/15 [==============================] - 0s 4ms/step - loss: 0.1528 - accuracy: 0.9355\n",
            "Epoch 462/500\n",
            "15/15 [==============================] - 0s 4ms/step - loss: 0.1455 - accuracy: 0.9431\n",
            "Epoch 463/500\n",
            "15/15 [==============================] - 0s 4ms/step - loss: 0.1378 - accuracy: 0.9511\n",
            "Epoch 464/500\n",
            "15/15 [==============================] - 0s 4ms/step - loss: 0.1225 - accuracy: 0.9617\n",
            "Epoch 465/500\n",
            "15/15 [==============================] - 0s 4ms/step - loss: 0.1453 - accuracy: 0.9482\n",
            "Epoch 466/500\n",
            "15/15 [==============================] - 0s 4ms/step - loss: 0.1345 - accuracy: 0.9535\n",
            "Epoch 467/500\n",
            "15/15 [==============================] - 0s 4ms/step - loss: 0.1392 - accuracy: 0.9455\n",
            "Epoch 468/500\n",
            "15/15 [==============================] - 0s 4ms/step - loss: 0.1430 - accuracy: 0.9456\n",
            "Epoch 469/500\n",
            "15/15 [==============================] - 0s 4ms/step - loss: 0.1472 - accuracy: 0.9440\n",
            "Epoch 470/500\n",
            "15/15 [==============================] - 0s 4ms/step - loss: 0.1507 - accuracy: 0.9418\n",
            "Epoch 471/500\n",
            "15/15 [==============================] - 0s 4ms/step - loss: 0.1511 - accuracy: 0.9450\n",
            "Epoch 472/500\n",
            "15/15 [==============================] - 0s 4ms/step - loss: 0.1358 - accuracy: 0.9371\n",
            "Epoch 473/500\n",
            "15/15 [==============================] - 0s 4ms/step - loss: 0.1264 - accuracy: 0.9559\n",
            "Epoch 474/500\n",
            "15/15 [==============================] - 0s 4ms/step - loss: 0.1352 - accuracy: 0.9599\n",
            "Epoch 475/500\n",
            "15/15 [==============================] - 0s 5ms/step - loss: 0.1215 - accuracy: 0.9652\n",
            "Epoch 476/500\n",
            "15/15 [==============================] - 0s 4ms/step - loss: 0.1354 - accuracy: 0.9516\n",
            "Epoch 477/500\n",
            "15/15 [==============================] - 0s 4ms/step - loss: 0.1524 - accuracy: 0.9368\n",
            "Epoch 478/500\n",
            "15/15 [==============================] - 0s 4ms/step - loss: 0.1202 - accuracy: 0.9536\n",
            "Epoch 479/500\n",
            "15/15 [==============================] - 0s 5ms/step - loss: 0.1148 - accuracy: 0.9562\n",
            "Epoch 480/500\n",
            "15/15 [==============================] - 0s 4ms/step - loss: 0.1459 - accuracy: 0.9385\n",
            "Epoch 481/500\n",
            "15/15 [==============================] - 0s 4ms/step - loss: 0.1249 - accuracy: 0.9572\n",
            "Epoch 482/500\n",
            "15/15 [==============================] - 0s 4ms/step - loss: 0.1395 - accuracy: 0.9553\n",
            "Epoch 483/500\n",
            "15/15 [==============================] - 0s 4ms/step - loss: 0.1418 - accuracy: 0.9445\n",
            "Epoch 484/500\n",
            "15/15 [==============================] - 0s 4ms/step - loss: 0.1216 - accuracy: 0.9475\n",
            "Epoch 485/500\n",
            "15/15 [==============================] - 0s 4ms/step - loss: 0.1357 - accuracy: 0.9511\n",
            "Epoch 486/500\n",
            "15/15 [==============================] - 0s 4ms/step - loss: 0.1353 - accuracy: 0.9444\n",
            "Epoch 487/500\n",
            "15/15 [==============================] - 0s 4ms/step - loss: 0.1140 - accuracy: 0.9590\n",
            "Epoch 488/500\n",
            "15/15 [==============================] - 0s 4ms/step - loss: 0.1316 - accuracy: 0.9505\n",
            "Epoch 489/500\n",
            "15/15 [==============================] - 0s 4ms/step - loss: 0.1292 - accuracy: 0.9459\n",
            "Epoch 490/500\n",
            "15/15 [==============================] - 0s 4ms/step - loss: 0.1084 - accuracy: 0.9639\n",
            "Epoch 491/500\n",
            "15/15 [==============================] - 0s 4ms/step - loss: 0.1178 - accuracy: 0.9569\n",
            "Epoch 492/500\n",
            "15/15 [==============================] - 0s 4ms/step - loss: 0.1471 - accuracy: 0.9456\n",
            "Epoch 493/500\n",
            "15/15 [==============================] - 0s 4ms/step - loss: 0.1092 - accuracy: 0.9635\n",
            "Epoch 494/500\n",
            "15/15 [==============================] - 0s 4ms/step - loss: 0.1182 - accuracy: 0.9542\n",
            "Epoch 495/500\n",
            "15/15 [==============================] - 0s 4ms/step - loss: 0.1221 - accuracy: 0.9594\n",
            "Epoch 496/500\n",
            "15/15 [==============================] - 0s 4ms/step - loss: 0.1285 - accuracy: 0.9630\n",
            "Epoch 497/500\n",
            "15/15 [==============================] - 0s 4ms/step - loss: 0.1259 - accuracy: 0.9501\n",
            "Epoch 498/500\n",
            "15/15 [==============================] - 0s 4ms/step - loss: 0.1187 - accuracy: 0.9534\n",
            "Epoch 499/500\n",
            "15/15 [==============================] - 0s 4ms/step - loss: 0.1031 - accuracy: 0.9662\n",
            "Epoch 500/500\n",
            "15/15 [==============================] - 0s 4ms/step - loss: 0.1487 - accuracy: 0.9390\n"
          ]
        }
      ]
    },
    {
      "cell_type": "code",
      "metadata": {
        "id": "3YXGelKThoTT"
      },
      "source": [
        "import matplotlib.pyplot as plt\n",
        "\n",
        "\n",
        "def plot_graphs(history, string):\n",
        "  plt.plot(history.history[string])\n",
        "  plt.xlabel(\"Epochs\")\n",
        "  plt.ylabel(string)\n",
        "  plt.show()"
      ],
      "execution_count": 14,
      "outputs": []
    },
    {
      "cell_type": "code",
      "metadata": {
        "id": "poeprYK8h-c7"
      },
      "source": [
        "plot_graphs(history, 'accuracy')\n"
      ],
      "execution_count": 15,
      "outputs": [
        {
          "output_type": "display_data",
          "data": {
            "text/plain": "<Figure size 432x288 with 1 Axes>",
            "image/svg+xml": "<?xml version=\"1.0\" encoding=\"utf-8\" standalone=\"no\"?>\n<!DOCTYPE svg PUBLIC \"-//W3C//DTD SVG 1.1//EN\"\n  \"http://www.w3.org/Graphics/SVG/1.1/DTD/svg11.dtd\">\n<!-- Created with matplotlib (https://matplotlib.org/) -->\n<svg height=\"262.19625pt\" version=\"1.1\" viewBox=\"0 0 385.78125 262.19625\" width=\"385.78125pt\" xmlns=\"http://www.w3.org/2000/svg\" xmlns:xlink=\"http://www.w3.org/1999/xlink\">\n <metadata>\n  <rdf:RDF xmlns:cc=\"http://creativecommons.org/ns#\" xmlns:dc=\"http://purl.org/dc/elements/1.1/\" xmlns:rdf=\"http://www.w3.org/1999/02/22-rdf-syntax-ns#\">\n   <cc:Work>\n    <dc:type rdf:resource=\"http://purl.org/dc/dcmitype/StillImage\"/>\n    <dc:date>2021-01-20T21:17:26.585618</dc:date>\n    <dc:format>image/svg+xml</dc:format>\n    <dc:creator>\n     <cc:Agent>\n      <dc:title>Matplotlib v3.3.2, https://matplotlib.org/</dc:title>\n     </cc:Agent>\n    </dc:creator>\n   </cc:Work>\n  </rdf:RDF>\n </metadata>\n <defs>\n  <style type=\"text/css\">*{stroke-linecap:butt;stroke-linejoin:round;}</style>\n </defs>\n <g id=\"figure_1\">\n  <g id=\"patch_1\">\n   <path d=\"M 0 262.19625 \nL 385.78125 262.19625 \nL 385.78125 0 \nL 0 0 \nz\n\" style=\"fill:none;\"/>\n  </g>\n  <g id=\"axes_1\">\n   <g id=\"patch_2\">\n    <path d=\"M 43.78125 224.64 \nL 378.58125 224.64 \nL 378.58125 7.2 \nL 43.78125 7.2 \nz\n\" style=\"fill:#ffffff;\"/>\n   </g>\n   <g id=\"matplotlib.axis_1\">\n    <g id=\"xtick_1\">\n     <g id=\"line2d_1\">\n      <defs>\n       <path d=\"M 0 0 \nL 0 3.5 \n\" id=\"m6215544d76\" style=\"stroke:#000000;stroke-width:0.8;\"/>\n      </defs>\n      <g>\n       <use style=\"stroke:#000000;stroke-width:0.8;\" x=\"58.999432\" xlink:href=\"#m6215544d76\" y=\"224.64\"/>\n      </g>\n     </g>\n     <g id=\"text_1\">\n      <!-- 0 -->\n      <g transform=\"translate(55.818182 239.238437)scale(0.1 -0.1)\">\n       <defs>\n        <path d=\"M 31.78125 66.40625 \nQ 24.171875 66.40625 20.328125 58.90625 \nQ 16.5 51.421875 16.5 36.375 \nQ 16.5 21.390625 20.328125 13.890625 \nQ 24.171875 6.390625 31.78125 6.390625 \nQ 39.453125 6.390625 43.28125 13.890625 \nQ 47.125 21.390625 47.125 36.375 \nQ 47.125 51.421875 43.28125 58.90625 \nQ 39.453125 66.40625 31.78125 66.40625 \nz\nM 31.78125 74.21875 \nQ 44.046875 74.21875 50.515625 64.515625 \nQ 56.984375 54.828125 56.984375 36.375 \nQ 56.984375 17.96875 50.515625 8.265625 \nQ 44.046875 -1.421875 31.78125 -1.421875 \nQ 19.53125 -1.421875 13.0625 8.265625 \nQ 6.59375 17.96875 6.59375 36.375 \nQ 6.59375 54.828125 13.0625 64.515625 \nQ 19.53125 74.21875 31.78125 74.21875 \nz\n\" id=\"DejaVuSans-48\"/>\n       </defs>\n       <use xlink:href=\"#DejaVuSans-48\"/>\n      </g>\n     </g>\n    </g>\n    <g id=\"xtick_2\">\n     <g id=\"line2d_2\">\n      <g>\n       <use style=\"stroke:#000000;stroke-width:0.8;\" x=\"119.994149\" xlink:href=\"#m6215544d76\" y=\"224.64\"/>\n      </g>\n     </g>\n     <g id=\"text_2\">\n      <!-- 100 -->\n      <g transform=\"translate(110.450399 239.238437)scale(0.1 -0.1)\">\n       <defs>\n        <path d=\"M 12.40625 8.296875 \nL 28.515625 8.296875 \nL 28.515625 63.921875 \nL 10.984375 60.40625 \nL 10.984375 69.390625 \nL 28.421875 72.90625 \nL 38.28125 72.90625 \nL 38.28125 8.296875 \nL 54.390625 8.296875 \nL 54.390625 0 \nL 12.40625 0 \nz\n\" id=\"DejaVuSans-49\"/>\n       </defs>\n       <use xlink:href=\"#DejaVuSans-49\"/>\n       <use x=\"63.623047\" xlink:href=\"#DejaVuSans-48\"/>\n       <use x=\"127.246094\" xlink:href=\"#DejaVuSans-48\"/>\n      </g>\n     </g>\n    </g>\n    <g id=\"xtick_3\">\n     <g id=\"line2d_3\">\n      <g>\n       <use style=\"stroke:#000000;stroke-width:0.8;\" x=\"180.988865\" xlink:href=\"#m6215544d76\" y=\"224.64\"/>\n      </g>\n     </g>\n     <g id=\"text_3\">\n      <!-- 200 -->\n      <g transform=\"translate(171.445115 239.238437)scale(0.1 -0.1)\">\n       <defs>\n        <path d=\"M 19.1875 8.296875 \nL 53.609375 8.296875 \nL 53.609375 0 \nL 7.328125 0 \nL 7.328125 8.296875 \nQ 12.9375 14.109375 22.625 23.890625 \nQ 32.328125 33.6875 34.8125 36.53125 \nQ 39.546875 41.84375 41.421875 45.53125 \nQ 43.3125 49.21875 43.3125 52.78125 \nQ 43.3125 58.59375 39.234375 62.25 \nQ 35.15625 65.921875 28.609375 65.921875 \nQ 23.96875 65.921875 18.8125 64.3125 \nQ 13.671875 62.703125 7.8125 59.421875 \nL 7.8125 69.390625 \nQ 13.765625 71.78125 18.9375 73 \nQ 24.125 74.21875 28.421875 74.21875 \nQ 39.75 74.21875 46.484375 68.546875 \nQ 53.21875 62.890625 53.21875 53.421875 \nQ 53.21875 48.921875 51.53125 44.890625 \nQ 49.859375 40.875 45.40625 35.40625 \nQ 44.1875 33.984375 37.640625 27.21875 \nQ 31.109375 20.453125 19.1875 8.296875 \nz\n\" id=\"DejaVuSans-50\"/>\n       </defs>\n       <use xlink:href=\"#DejaVuSans-50\"/>\n       <use x=\"63.623047\" xlink:href=\"#DejaVuSans-48\"/>\n       <use x=\"127.246094\" xlink:href=\"#DejaVuSans-48\"/>\n      </g>\n     </g>\n    </g>\n    <g id=\"xtick_4\">\n     <g id=\"line2d_4\">\n      <g>\n       <use style=\"stroke:#000000;stroke-width:0.8;\" x=\"241.983582\" xlink:href=\"#m6215544d76\" y=\"224.64\"/>\n      </g>\n     </g>\n     <g id=\"text_4\">\n      <!-- 300 -->\n      <g transform=\"translate(232.439832 239.238437)scale(0.1 -0.1)\">\n       <defs>\n        <path d=\"M 40.578125 39.3125 \nQ 47.65625 37.796875 51.625 33 \nQ 55.609375 28.21875 55.609375 21.1875 \nQ 55.609375 10.40625 48.1875 4.484375 \nQ 40.765625 -1.421875 27.09375 -1.421875 \nQ 22.515625 -1.421875 17.65625 -0.515625 \nQ 12.796875 0.390625 7.625 2.203125 \nL 7.625 11.71875 \nQ 11.71875 9.328125 16.59375 8.109375 \nQ 21.484375 6.890625 26.8125 6.890625 \nQ 36.078125 6.890625 40.9375 10.546875 \nQ 45.796875 14.203125 45.796875 21.1875 \nQ 45.796875 27.640625 41.28125 31.265625 \nQ 36.765625 34.90625 28.71875 34.90625 \nL 20.21875 34.90625 \nL 20.21875 43.015625 \nL 29.109375 43.015625 \nQ 36.375 43.015625 40.234375 45.921875 \nQ 44.09375 48.828125 44.09375 54.296875 \nQ 44.09375 59.90625 40.109375 62.90625 \nQ 36.140625 65.921875 28.71875 65.921875 \nQ 24.65625 65.921875 20.015625 65.03125 \nQ 15.375 64.15625 9.8125 62.3125 \nL 9.8125 71.09375 \nQ 15.4375 72.65625 20.34375 73.4375 \nQ 25.25 74.21875 29.59375 74.21875 \nQ 40.828125 74.21875 47.359375 69.109375 \nQ 53.90625 64.015625 53.90625 55.328125 \nQ 53.90625 49.265625 50.4375 45.09375 \nQ 46.96875 40.921875 40.578125 39.3125 \nz\n\" id=\"DejaVuSans-51\"/>\n       </defs>\n       <use xlink:href=\"#DejaVuSans-51\"/>\n       <use x=\"63.623047\" xlink:href=\"#DejaVuSans-48\"/>\n       <use x=\"127.246094\" xlink:href=\"#DejaVuSans-48\"/>\n      </g>\n     </g>\n    </g>\n    <g id=\"xtick_5\">\n     <g id=\"line2d_5\">\n      <g>\n       <use style=\"stroke:#000000;stroke-width:0.8;\" x=\"302.978299\" xlink:href=\"#m6215544d76\" y=\"224.64\"/>\n      </g>\n     </g>\n     <g id=\"text_5\">\n      <!-- 400 -->\n      <g transform=\"translate(293.434549 239.238437)scale(0.1 -0.1)\">\n       <defs>\n        <path d=\"M 37.796875 64.3125 \nL 12.890625 25.390625 \nL 37.796875 25.390625 \nz\nM 35.203125 72.90625 \nL 47.609375 72.90625 \nL 47.609375 25.390625 \nL 58.015625 25.390625 \nL 58.015625 17.1875 \nL 47.609375 17.1875 \nL 47.609375 0 \nL 37.796875 0 \nL 37.796875 17.1875 \nL 4.890625 17.1875 \nL 4.890625 26.703125 \nz\n\" id=\"DejaVuSans-52\"/>\n       </defs>\n       <use xlink:href=\"#DejaVuSans-52\"/>\n       <use x=\"63.623047\" xlink:href=\"#DejaVuSans-48\"/>\n       <use x=\"127.246094\" xlink:href=\"#DejaVuSans-48\"/>\n      </g>\n     </g>\n    </g>\n    <g id=\"xtick_6\">\n     <g id=\"line2d_6\">\n      <g>\n       <use style=\"stroke:#000000;stroke-width:0.8;\" x=\"363.973015\" xlink:href=\"#m6215544d76\" y=\"224.64\"/>\n      </g>\n     </g>\n     <g id=\"text_6\">\n      <!-- 500 -->\n      <g transform=\"translate(354.429265 239.238437)scale(0.1 -0.1)\">\n       <defs>\n        <path d=\"M 10.796875 72.90625 \nL 49.515625 72.90625 \nL 49.515625 64.59375 \nL 19.828125 64.59375 \nL 19.828125 46.734375 \nQ 21.96875 47.46875 24.109375 47.828125 \nQ 26.265625 48.1875 28.421875 48.1875 \nQ 40.625 48.1875 47.75 41.5 \nQ 54.890625 34.8125 54.890625 23.390625 \nQ 54.890625 11.625 47.5625 5.09375 \nQ 40.234375 -1.421875 26.90625 -1.421875 \nQ 22.3125 -1.421875 17.546875 -0.640625 \nQ 12.796875 0.140625 7.71875 1.703125 \nL 7.71875 11.625 \nQ 12.109375 9.234375 16.796875 8.0625 \nQ 21.484375 6.890625 26.703125 6.890625 \nQ 35.15625 6.890625 40.078125 11.328125 \nQ 45.015625 15.765625 45.015625 23.390625 \nQ 45.015625 31 40.078125 35.4375 \nQ 35.15625 39.890625 26.703125 39.890625 \nQ 22.75 39.890625 18.8125 39.015625 \nQ 14.890625 38.140625 10.796875 36.28125 \nz\n\" id=\"DejaVuSans-53\"/>\n       </defs>\n       <use xlink:href=\"#DejaVuSans-53\"/>\n       <use x=\"63.623047\" xlink:href=\"#DejaVuSans-48\"/>\n       <use x=\"127.246094\" xlink:href=\"#DejaVuSans-48\"/>\n      </g>\n     </g>\n    </g>\n    <g id=\"text_7\">\n     <!-- Epochs -->\n     <g transform=\"translate(193.265625 252.916562)scale(0.1 -0.1)\">\n      <defs>\n       <path d=\"M 9.8125 72.90625 \nL 55.90625 72.90625 \nL 55.90625 64.59375 \nL 19.671875 64.59375 \nL 19.671875 43.015625 \nL 54.390625 43.015625 \nL 54.390625 34.71875 \nL 19.671875 34.71875 \nL 19.671875 8.296875 \nL 56.78125 8.296875 \nL 56.78125 0 \nL 9.8125 0 \nz\n\" id=\"DejaVuSans-69\"/>\n       <path d=\"M 18.109375 8.203125 \nL 18.109375 -20.796875 \nL 9.078125 -20.796875 \nL 9.078125 54.6875 \nL 18.109375 54.6875 \nL 18.109375 46.390625 \nQ 20.953125 51.265625 25.265625 53.625 \nQ 29.59375 56 35.59375 56 \nQ 45.5625 56 51.78125 48.09375 \nQ 58.015625 40.1875 58.015625 27.296875 \nQ 58.015625 14.40625 51.78125 6.484375 \nQ 45.5625 -1.421875 35.59375 -1.421875 \nQ 29.59375 -1.421875 25.265625 0.953125 \nQ 20.953125 3.328125 18.109375 8.203125 \nz\nM 48.6875 27.296875 \nQ 48.6875 37.203125 44.609375 42.84375 \nQ 40.53125 48.484375 33.40625 48.484375 \nQ 26.265625 48.484375 22.1875 42.84375 \nQ 18.109375 37.203125 18.109375 27.296875 \nQ 18.109375 17.390625 22.1875 11.75 \nQ 26.265625 6.109375 33.40625 6.109375 \nQ 40.53125 6.109375 44.609375 11.75 \nQ 48.6875 17.390625 48.6875 27.296875 \nz\n\" id=\"DejaVuSans-112\"/>\n       <path d=\"M 30.609375 48.390625 \nQ 23.390625 48.390625 19.1875 42.75 \nQ 14.984375 37.109375 14.984375 27.296875 \nQ 14.984375 17.484375 19.15625 11.84375 \nQ 23.34375 6.203125 30.609375 6.203125 \nQ 37.796875 6.203125 41.984375 11.859375 \nQ 46.1875 17.53125 46.1875 27.296875 \nQ 46.1875 37.015625 41.984375 42.703125 \nQ 37.796875 48.390625 30.609375 48.390625 \nz\nM 30.609375 56 \nQ 42.328125 56 49.015625 48.375 \nQ 55.71875 40.765625 55.71875 27.296875 \nQ 55.71875 13.875 49.015625 6.21875 \nQ 42.328125 -1.421875 30.609375 -1.421875 \nQ 18.84375 -1.421875 12.171875 6.21875 \nQ 5.515625 13.875 5.515625 27.296875 \nQ 5.515625 40.765625 12.171875 48.375 \nQ 18.84375 56 30.609375 56 \nz\n\" id=\"DejaVuSans-111\"/>\n       <path d=\"M 48.78125 52.59375 \nL 48.78125 44.1875 \nQ 44.96875 46.296875 41.140625 47.34375 \nQ 37.3125 48.390625 33.40625 48.390625 \nQ 24.65625 48.390625 19.8125 42.84375 \nQ 14.984375 37.3125 14.984375 27.296875 \nQ 14.984375 17.28125 19.8125 11.734375 \nQ 24.65625 6.203125 33.40625 6.203125 \nQ 37.3125 6.203125 41.140625 7.25 \nQ 44.96875 8.296875 48.78125 10.40625 \nL 48.78125 2.09375 \nQ 45.015625 0.34375 40.984375 -0.53125 \nQ 36.96875 -1.421875 32.421875 -1.421875 \nQ 20.0625 -1.421875 12.78125 6.34375 \nQ 5.515625 14.109375 5.515625 27.296875 \nQ 5.515625 40.671875 12.859375 48.328125 \nQ 20.21875 56 33.015625 56 \nQ 37.15625 56 41.109375 55.140625 \nQ 45.0625 54.296875 48.78125 52.59375 \nz\n\" id=\"DejaVuSans-99\"/>\n       <path d=\"M 54.890625 33.015625 \nL 54.890625 0 \nL 45.90625 0 \nL 45.90625 32.71875 \nQ 45.90625 40.484375 42.875 44.328125 \nQ 39.84375 48.1875 33.796875 48.1875 \nQ 26.515625 48.1875 22.3125 43.546875 \nQ 18.109375 38.921875 18.109375 30.90625 \nL 18.109375 0 \nL 9.078125 0 \nL 9.078125 75.984375 \nL 18.109375 75.984375 \nL 18.109375 46.1875 \nQ 21.34375 51.125 25.703125 53.5625 \nQ 30.078125 56 35.796875 56 \nQ 45.21875 56 50.046875 50.171875 \nQ 54.890625 44.34375 54.890625 33.015625 \nz\n\" id=\"DejaVuSans-104\"/>\n       <path d=\"M 44.28125 53.078125 \nL 44.28125 44.578125 \nQ 40.484375 46.53125 36.375 47.5 \nQ 32.28125 48.484375 27.875 48.484375 \nQ 21.1875 48.484375 17.84375 46.4375 \nQ 14.5 44.390625 14.5 40.28125 \nQ 14.5 37.15625 16.890625 35.375 \nQ 19.28125 33.59375 26.515625 31.984375 \nL 29.59375 31.296875 \nQ 39.15625 29.25 43.1875 25.515625 \nQ 47.21875 21.78125 47.21875 15.09375 \nQ 47.21875 7.46875 41.1875 3.015625 \nQ 35.15625 -1.421875 24.609375 -1.421875 \nQ 20.21875 -1.421875 15.453125 -0.5625 \nQ 10.6875 0.296875 5.421875 2 \nL 5.421875 11.28125 \nQ 10.40625 8.6875 15.234375 7.390625 \nQ 20.0625 6.109375 24.8125 6.109375 \nQ 31.15625 6.109375 34.5625 8.28125 \nQ 37.984375 10.453125 37.984375 14.40625 \nQ 37.984375 18.0625 35.515625 20.015625 \nQ 33.0625 21.96875 24.703125 23.78125 \nL 21.578125 24.515625 \nQ 13.234375 26.265625 9.515625 29.90625 \nQ 5.8125 33.546875 5.8125 39.890625 \nQ 5.8125 47.609375 11.28125 51.796875 \nQ 16.75 56 26.8125 56 \nQ 31.78125 56 36.171875 55.265625 \nQ 40.578125 54.546875 44.28125 53.078125 \nz\n\" id=\"DejaVuSans-115\"/>\n      </defs>\n      <use xlink:href=\"#DejaVuSans-69\"/>\n      <use x=\"63.183594\" xlink:href=\"#DejaVuSans-112\"/>\n      <use x=\"126.660156\" xlink:href=\"#DejaVuSans-111\"/>\n      <use x=\"187.841797\" xlink:href=\"#DejaVuSans-99\"/>\n      <use x=\"242.822266\" xlink:href=\"#DejaVuSans-104\"/>\n      <use x=\"306.201172\" xlink:href=\"#DejaVuSans-115\"/>\n     </g>\n    </g>\n   </g>\n   <g id=\"matplotlib.axis_2\">\n    <g id=\"ytick_1\">\n     <g id=\"line2d_7\">\n      <defs>\n       <path d=\"M 0 0 \nL -3.5 0 \n\" id=\"m4f3f437956\" style=\"stroke:#000000;stroke-width:0.8;\"/>\n      </defs>\n      <g>\n       <use style=\"stroke:#000000;stroke-width:0.8;\" x=\"43.78125\" xlink:href=\"#m4f3f437956\" y=\"224.352127\"/>\n      </g>\n     </g>\n     <g id=\"text_8\">\n      <!-- 0.0 -->\n      <g transform=\"translate(20.878125 228.151346)scale(0.1 -0.1)\">\n       <defs>\n        <path d=\"M 10.6875 12.40625 \nL 21 12.40625 \nL 21 0 \nL 10.6875 0 \nz\n\" id=\"DejaVuSans-46\"/>\n       </defs>\n       <use xlink:href=\"#DejaVuSans-48\"/>\n       <use x=\"63.623047\" xlink:href=\"#DejaVuSans-46\"/>\n       <use x=\"95.410156\" xlink:href=\"#DejaVuSans-48\"/>\n      </g>\n     </g>\n    </g>\n    <g id=\"ytick_2\">\n     <g id=\"line2d_8\">\n      <g>\n       <use style=\"stroke:#000000;stroke-width:0.8;\" x=\"43.78125\" xlink:href=\"#m4f3f437956\" y=\"180.883318\"/>\n      </g>\n     </g>\n     <g id=\"text_9\">\n      <!-- 0.2 -->\n      <g transform=\"translate(20.878125 184.682537)scale(0.1 -0.1)\">\n       <use xlink:href=\"#DejaVuSans-48\"/>\n       <use x=\"63.623047\" xlink:href=\"#DejaVuSans-46\"/>\n       <use x=\"95.410156\" xlink:href=\"#DejaVuSans-50\"/>\n      </g>\n     </g>\n    </g>\n    <g id=\"ytick_3\">\n     <g id=\"line2d_9\">\n      <g>\n       <use style=\"stroke:#000000;stroke-width:0.8;\" x=\"43.78125\" xlink:href=\"#m4f3f437956\" y=\"137.414509\"/>\n      </g>\n     </g>\n     <g id=\"text_10\">\n      <!-- 0.4 -->\n      <g transform=\"translate(20.878125 141.213728)scale(0.1 -0.1)\">\n       <use xlink:href=\"#DejaVuSans-48\"/>\n       <use x=\"63.623047\" xlink:href=\"#DejaVuSans-46\"/>\n       <use x=\"95.410156\" xlink:href=\"#DejaVuSans-52\"/>\n      </g>\n     </g>\n    </g>\n    <g id=\"ytick_4\">\n     <g id=\"line2d_10\">\n      <g>\n       <use style=\"stroke:#000000;stroke-width:0.8;\" x=\"43.78125\" xlink:href=\"#m4f3f437956\" y=\"93.9457\"/>\n      </g>\n     </g>\n     <g id=\"text_11\">\n      <!-- 0.6 -->\n      <g transform=\"translate(20.878125 97.744918)scale(0.1 -0.1)\">\n       <defs>\n        <path d=\"M 33.015625 40.375 \nQ 26.375 40.375 22.484375 35.828125 \nQ 18.609375 31.296875 18.609375 23.390625 \nQ 18.609375 15.53125 22.484375 10.953125 \nQ 26.375 6.390625 33.015625 6.390625 \nQ 39.65625 6.390625 43.53125 10.953125 \nQ 47.40625 15.53125 47.40625 23.390625 \nQ 47.40625 31.296875 43.53125 35.828125 \nQ 39.65625 40.375 33.015625 40.375 \nz\nM 52.59375 71.296875 \nL 52.59375 62.3125 \nQ 48.875 64.0625 45.09375 64.984375 \nQ 41.3125 65.921875 37.59375 65.921875 \nQ 27.828125 65.921875 22.671875 59.328125 \nQ 17.53125 52.734375 16.796875 39.40625 \nQ 19.671875 43.65625 24.015625 45.921875 \nQ 28.375 48.1875 33.59375 48.1875 \nQ 44.578125 48.1875 50.953125 41.515625 \nQ 57.328125 34.859375 57.328125 23.390625 \nQ 57.328125 12.15625 50.6875 5.359375 \nQ 44.046875 -1.421875 33.015625 -1.421875 \nQ 20.359375 -1.421875 13.671875 8.265625 \nQ 6.984375 17.96875 6.984375 36.375 \nQ 6.984375 53.65625 15.1875 63.9375 \nQ 23.390625 74.21875 37.203125 74.21875 \nQ 40.921875 74.21875 44.703125 73.484375 \nQ 48.484375 72.75 52.59375 71.296875 \nz\n\" id=\"DejaVuSans-54\"/>\n       </defs>\n       <use xlink:href=\"#DejaVuSans-48\"/>\n       <use x=\"63.623047\" xlink:href=\"#DejaVuSans-46\"/>\n       <use x=\"95.410156\" xlink:href=\"#DejaVuSans-54\"/>\n      </g>\n     </g>\n    </g>\n    <g id=\"ytick_5\">\n     <g id=\"line2d_11\">\n      <g>\n       <use style=\"stroke:#000000;stroke-width:0.8;\" x=\"43.78125\" xlink:href=\"#m4f3f437956\" y=\"50.47689\"/>\n      </g>\n     </g>\n     <g id=\"text_12\">\n      <!-- 0.8 -->\n      <g transform=\"translate(20.878125 54.276109)scale(0.1 -0.1)\">\n       <defs>\n        <path d=\"M 31.78125 34.625 \nQ 24.75 34.625 20.71875 30.859375 \nQ 16.703125 27.09375 16.703125 20.515625 \nQ 16.703125 13.921875 20.71875 10.15625 \nQ 24.75 6.390625 31.78125 6.390625 \nQ 38.8125 6.390625 42.859375 10.171875 \nQ 46.921875 13.96875 46.921875 20.515625 \nQ 46.921875 27.09375 42.890625 30.859375 \nQ 38.875 34.625 31.78125 34.625 \nz\nM 21.921875 38.8125 \nQ 15.578125 40.375 12.03125 44.71875 \nQ 8.5 49.078125 8.5 55.328125 \nQ 8.5 64.0625 14.71875 69.140625 \nQ 20.953125 74.21875 31.78125 74.21875 \nQ 42.671875 74.21875 48.875 69.140625 \nQ 55.078125 64.0625 55.078125 55.328125 \nQ 55.078125 49.078125 51.53125 44.71875 \nQ 48 40.375 41.703125 38.8125 \nQ 48.828125 37.15625 52.796875 32.3125 \nQ 56.78125 27.484375 56.78125 20.515625 \nQ 56.78125 9.90625 50.3125 4.234375 \nQ 43.84375 -1.421875 31.78125 -1.421875 \nQ 19.734375 -1.421875 13.25 4.234375 \nQ 6.78125 9.90625 6.78125 20.515625 \nQ 6.78125 27.484375 10.78125 32.3125 \nQ 14.796875 37.15625 21.921875 38.8125 \nz\nM 18.3125 54.390625 \nQ 18.3125 48.734375 21.84375 45.5625 \nQ 25.390625 42.390625 31.78125 42.390625 \nQ 38.140625 42.390625 41.71875 45.5625 \nQ 45.3125 48.734375 45.3125 54.390625 \nQ 45.3125 60.0625 41.71875 63.234375 \nQ 38.140625 66.40625 31.78125 66.40625 \nQ 25.390625 66.40625 21.84375 63.234375 \nQ 18.3125 60.0625 18.3125 54.390625 \nz\n\" id=\"DejaVuSans-56\"/>\n       </defs>\n       <use xlink:href=\"#DejaVuSans-48\"/>\n       <use x=\"63.623047\" xlink:href=\"#DejaVuSans-46\"/>\n       <use x=\"95.410156\" xlink:href=\"#DejaVuSans-56\"/>\n      </g>\n     </g>\n    </g>\n    <g id=\"text_13\">\n     <!-- accuracy -->\n     <g transform=\"translate(14.798438 138.479375)rotate(-90)scale(0.1 -0.1)\">\n      <defs>\n       <path d=\"M 34.28125 27.484375 \nQ 23.390625 27.484375 19.1875 25 \nQ 14.984375 22.515625 14.984375 16.5 \nQ 14.984375 11.71875 18.140625 8.90625 \nQ 21.296875 6.109375 26.703125 6.109375 \nQ 34.1875 6.109375 38.703125 11.40625 \nQ 43.21875 16.703125 43.21875 25.484375 \nL 43.21875 27.484375 \nz\nM 52.203125 31.203125 \nL 52.203125 0 \nL 43.21875 0 \nL 43.21875 8.296875 \nQ 40.140625 3.328125 35.546875 0.953125 \nQ 30.953125 -1.421875 24.3125 -1.421875 \nQ 15.921875 -1.421875 10.953125 3.296875 \nQ 6 8.015625 6 15.921875 \nQ 6 25.140625 12.171875 29.828125 \nQ 18.359375 34.515625 30.609375 34.515625 \nL 43.21875 34.515625 \nL 43.21875 35.40625 \nQ 43.21875 41.609375 39.140625 45 \nQ 35.0625 48.390625 27.6875 48.390625 \nQ 23 48.390625 18.546875 47.265625 \nQ 14.109375 46.140625 10.015625 43.890625 \nL 10.015625 52.203125 \nQ 14.9375 54.109375 19.578125 55.046875 \nQ 24.21875 56 28.609375 56 \nQ 40.484375 56 46.34375 49.84375 \nQ 52.203125 43.703125 52.203125 31.203125 \nz\n\" id=\"DejaVuSans-97\"/>\n       <path d=\"M 8.5 21.578125 \nL 8.5 54.6875 \nL 17.484375 54.6875 \nL 17.484375 21.921875 \nQ 17.484375 14.15625 20.5 10.265625 \nQ 23.53125 6.390625 29.59375 6.390625 \nQ 36.859375 6.390625 41.078125 11.03125 \nQ 45.3125 15.671875 45.3125 23.6875 \nL 45.3125 54.6875 \nL 54.296875 54.6875 \nL 54.296875 0 \nL 45.3125 0 \nL 45.3125 8.40625 \nQ 42.046875 3.421875 37.71875 1 \nQ 33.40625 -1.421875 27.6875 -1.421875 \nQ 18.265625 -1.421875 13.375 4.4375 \nQ 8.5 10.296875 8.5 21.578125 \nz\nM 31.109375 56 \nz\n\" id=\"DejaVuSans-117\"/>\n       <path d=\"M 41.109375 46.296875 \nQ 39.59375 47.171875 37.8125 47.578125 \nQ 36.03125 48 33.890625 48 \nQ 26.265625 48 22.1875 43.046875 \nQ 18.109375 38.09375 18.109375 28.8125 \nL 18.109375 0 \nL 9.078125 0 \nL 9.078125 54.6875 \nL 18.109375 54.6875 \nL 18.109375 46.1875 \nQ 20.953125 51.171875 25.484375 53.578125 \nQ 30.03125 56 36.53125 56 \nQ 37.453125 56 38.578125 55.875 \nQ 39.703125 55.765625 41.0625 55.515625 \nz\n\" id=\"DejaVuSans-114\"/>\n       <path d=\"M 32.171875 -5.078125 \nQ 28.375 -14.84375 24.75 -17.8125 \nQ 21.140625 -20.796875 15.09375 -20.796875 \nL 7.90625 -20.796875 \nL 7.90625 -13.28125 \nL 13.1875 -13.28125 \nQ 16.890625 -13.28125 18.9375 -11.515625 \nQ 21 -9.765625 23.484375 -3.21875 \nL 25.09375 0.875 \nL 2.984375 54.6875 \nL 12.5 54.6875 \nL 29.59375 11.921875 \nL 46.6875 54.6875 \nL 56.203125 54.6875 \nz\n\" id=\"DejaVuSans-121\"/>\n      </defs>\n      <use xlink:href=\"#DejaVuSans-97\"/>\n      <use x=\"61.279297\" xlink:href=\"#DejaVuSans-99\"/>\n      <use x=\"116.259766\" xlink:href=\"#DejaVuSans-99\"/>\n      <use x=\"171.240234\" xlink:href=\"#DejaVuSans-117\"/>\n      <use x=\"234.619141\" xlink:href=\"#DejaVuSans-114\"/>\n      <use x=\"275.732422\" xlink:href=\"#DejaVuSans-97\"/>\n      <use x=\"337.011719\" xlink:href=\"#DejaVuSans-99\"/>\n      <use x=\"391.992188\" xlink:href=\"#DejaVuSans-121\"/>\n     </g>\n    </g>\n   </g>\n   <g id=\"line2d_12\">\n    <path clip-path=\"url(#p6f0def3a8c)\" d=\"M 58.999432 214.756364 \nL 59.609379 213.316999 \nL 62.659115 213.316999 \nL 63.269062 212.837211 \nL 64.488956 212.837211 \nL 65.098903 212.357423 \nL 65.708851 208.519118 \nL 66.318798 206.120177 \nL 66.928745 205.640388 \nL 67.538692 202.761659 \nL 68.148639 202.761659 \nL 68.758586 199.403141 \nL 69.368534 199.403141 \nL 69.978481 197.483989 \nL 70.588428 196.524412 \nL 71.198375 196.524412 \nL 71.808322 194.125471 \nL 72.418269 191.246743 \nL 73.028217 190.287167 \nL 73.638164 187.408439 \nL 74.248111 185.969073 \nL 74.858058 184.049919 \nL 75.468005 178.772249 \nL 76.077952 181.650978 \nL 76.6879 176.853096 \nL 77.297847 176.853096 \nL 77.907794 173.49458 \nL 78.517741 172.535005 \nL 79.127688 172.535005 \nL 79.737635 171.095639 \nL 80.347583 168.696697 \nL 82.177424 157.661567 \nL 82.787371 159.100933 \nL 83.397319 157.181783 \nL 84.007266 155.742417 \nL 85.22716 150.46475 \nL 85.837107 149.505169 \nL 86.447054 146.626443 \nL 87.057002 146.146652 \nL 87.666949 143.747711 \nL 88.276896 143.747711 \nL 88.886843 137.990254 \nL 89.49679 140.389195 \nL 90.106737 137.990254 \nL 91.326632 132.712587 \nL 91.936579 132.712587 \nL 92.546526 131.273221 \nL 93.156473 127.914705 \nL 93.76642 125.995548 \nL 94.376368 122.637032 \nL 94.986315 123.596607 \nL 95.596262 122.637032 \nL 96.206209 124.076398 \nL 96.816156 126.475339 \nL 97.426103 120.238091 \nL 98.036051 120.717882 \nL 98.645998 113.521058 \nL 99.255945 113.521058 \nL 99.865892 114.000849 \nL 100.475839 109.682758 \nL 101.085786 113.041268 \nL 101.695734 108.243385 \nL 102.305681 104.884876 \nL 102.915628 103.925294 \nL 103.525575 103.925294 \nL 104.135522 100.566771 \nL 104.745469 101.526353 \nL 105.355417 98.647621 \nL 105.965364 98.16783 \nL 106.575311 98.647621 \nL 107.185258 94.80932 \nL 107.795205 92.89017 \nL 108.405152 91.930589 \nL 109.0151 89.531647 \nL 109.625047 89.531647 \nL 110.234994 88.572066 \nL 110.844941 83.294406 \nL 111.454888 87.132706 \nL 112.064835 82.814615 \nL 112.674783 82.814615 \nL 113.28473 80.415674 \nL 113.894677 82.814615 \nL 114.504624 78.016733 \nL 115.114571 78.016733 \nL 115.724518 77.536942 \nL 116.334466 76.577373 \nL 116.944413 74.178432 \nL 117.55436 73.698641 \nL 118.164307 72.73906 \nL 118.774254 75.138001 \nL 119.384201 76.577373 \nL 119.994149 73.698641 \nL 120.604096 73.698641 \nL 121.214043 74.178432 \nL 121.82399 73.21885 \nL 122.433937 67.461387 \nL 123.043884 70.819909 \nL 123.653832 68.900759 \nL 124.263779 68.900759 \nL 124.873726 68.420968 \nL 126.09362 63.623086 \nL 126.703567 63.143295 \nL 127.313515 61.703936 \nL 127.923462 60.744354 \nL 128.533409 61.703936 \nL 129.753303 60.744354 \nL 130.36325 59.304995 \nL 130.973198 59.784785 \nL 131.583145 63.143295 \nL 132.193092 60.744354 \nL 132.803039 60.264563 \nL 133.412986 62.663504 \nL 134.022933 60.264563 \nL 134.632881 57.385844 \nL 135.242828 57.865622 \nL 135.852775 57.865622 \nL 136.462722 56.906054 \nL 137.072669 55.466681 \nL 137.682616 54.507112 \nL 138.292564 55.466681 \nL 138.902511 54.027322 \nL 139.512458 53.067753 \nL 140.122405 52.587962 \nL 140.732352 52.587962 \nL 141.342299 53.067753 \nL 141.952247 53.067753 \nL 142.562194 51.628381 \nL 143.172141 53.547531 \nL 144.392035 50.668812 \nL 145.001982 48.749649 \nL 145.61193 47.79008 \nL 146.221877 51.628381 \nL 146.831824 48.269871 \nL 147.441771 46.830498 \nL 148.051718 47.310289 \nL 148.661665 44.431557 \nL 149.271613 43.951766 \nL 149.88156 44.911348 \nL 150.491507 42.992198 \nL 151.101454 44.911348 \nL 151.711401 43.471989 \nL 152.321348 43.951766 \nL 152.931296 41.552825 \nL 154.15119 42.512407 \nL 155.371084 39.633675 \nL 155.981031 41.552825 \nL 156.590979 39.633675 \nL 157.200926 37.234734 \nL 157.810873 38.194316 \nL 158.42082 37.234734 \nL 159.030767 39.153884 \nL 159.640714 36.275165 \nL 160.250662 37.714525 \nL 161.470556 35.795374 \nL 162.080503 37.714525 \nL 162.69045 33.876224 \nL 163.300397 32.436852 \nL 163.910345 30.037911 \nL 164.520292 30.997492 \nL 165.130239 30.037911 \nL 165.740186 30.517701 \nL 166.350133 30.517701 \nL 166.96008 30.037911 \nL 167.570028 30.037911 \nL 168.179975 30.997492 \nL 168.789922 30.037911 \nL 169.399869 28.598551 \nL 170.009816 30.997492 \nL 170.619763 30.037911 \nL 171.229711 28.11876 \nL 171.839658 30.517701 \nL 172.449605 28.598551 \nL 173.059552 29.55812 \nL 173.669499 27.159179 \nL 174.279446 28.11876 \nL 174.889394 28.11876 \nL 176.109288 27.159179 \nL 176.719235 26.19961 \nL 177.329182 26.19961 \nL 177.939129 27.159179 \nL 178.549077 27.159179 \nL 179.159024 25.719819 \nL 179.768971 25.719819 \nL 180.378918 24.760238 \nL 181.598812 24.760238 \nL 182.20876 26.19961 \nL 182.818707 24.760238 \nL 183.428654 25.240028 \nL 185.258495 22.361309 \nL 185.868443 23.320878 \nL 186.47839 21.881519 \nL 187.088337 22.361309 \nL 187.698284 22.361309 \nL 188.308231 23.320878 \nL 188.918178 22.361309 \nL 189.528126 21.881519 \nL 190.138073 22.841087 \nL 190.74802 23.320878 \nL 191.357967 23.320878 \nL 191.967914 24.28046 \nL 193.187809 23.320878 \nL 193.797756 24.760238 \nL 194.407703 22.841087 \nL 195.01765 21.881519 \nL 195.627597 24.28046 \nL 196.237544 31.957061 \nL 196.847492 27.159179 \nL 197.457439 26.19961 \nL 198.067386 24.28046 \nL 199.28728 23.320878 \nL 199.897227 21.881519 \nL 201.117122 21.881519 \nL 201.727069 20.921937 \nL 202.337016 20.442146 \nL 202.946963 20.921937 \nL 204.166858 20.921937 \nL 204.776805 20.442146 \nL 205.386752 20.921937 \nL 205.996699 20.442146 \nL 206.606646 20.442146 \nL 207.216593 21.401728 \nL 207.826541 19.962368 \nL 208.436488 20.442146 \nL 211.486224 20.442146 \nL 212.096171 19.482577 \nL 212.706118 20.442146 \nL 213.316065 19.962368 \nL 213.926012 18.522996 \nL 214.535959 18.043205 \nL 215.145907 19.482577 \nL 215.755854 19.002787 \nL 217.585695 19.002787 \nL 218.195642 17.563427 \nL 218.80559 18.522996 \nL 219.415537 19.002787 \nL 220.025484 18.522996 \nL 220.635431 19.002787 \nL 221.245378 17.563427 \nL 221.855325 18.522996 \nL 222.465273 18.522996 \nL 223.07522 17.563427 \nL 223.685167 17.563427 \nL 224.295114 18.522996 \nL 224.905061 18.522996 \nL 225.515008 17.563427 \nL 226.734903 18.522996 \nL 227.34485 19.482577 \nL 227.954797 18.043205 \nL 228.564744 17.563427 \nL 229.174691 17.563427 \nL 229.784639 19.962368 \nL 231.004533 19.002787 \nL 232.834374 19.002787 \nL 233.444322 19.482577 \nL 234.054269 19.002787 \nL 234.664216 19.482577 \nL 235.274163 18.522996 \nL 235.88411 19.482577 \nL 236.494057 19.002787 \nL 237.104005 18.043205 \nL 237.713952 18.522996 \nL 238.323899 18.522996 \nL 238.933846 18.043205 \nL 239.543793 18.043205 \nL 240.15374 19.002787 \nL 240.763688 17.563427 \nL 241.373635 18.043205 \nL 241.983582 17.563427 \nL 242.593529 18.522996 \nL 243.203476 18.522996 \nL 243.813423 18.043205 \nL 244.423371 17.083636 \nL 245.033318 17.563427 \nL 246.253212 17.563427 \nL 246.863159 18.043205 \nL 248.083054 18.043205 \nL 248.693001 18.522996 \nL 249.302948 18.522996 \nL 249.912895 17.563427 \nL 250.522842 17.083636 \nL 251.132789 17.563427 \nL 251.742737 17.563427 \nL 252.352684 19.002787 \nL 252.962631 17.563427 \nL 253.572578 18.043205 \nL 254.182525 17.563427 \nL 254.792472 17.563427 \nL 255.40242 18.043205 \nL 256.012367 18.043205 \nL 256.622314 19.002787 \nL 257.232261 18.043205 \nL 257.842208 17.563427 \nL 258.452155 18.522996 \nL 259.062103 17.563427 \nL 259.67205 18.522996 \nL 260.281997 18.522996 \nL 260.891944 17.083636 \nL 261.501891 19.002787 \nL 262.111838 18.522996 \nL 262.721786 18.522996 \nL 263.331733 19.002787 \nL 263.94168 17.083636 \nL 264.551627 18.522996 \nL 265.161574 17.083636 \nL 265.771521 18.043205 \nL 266.381469 18.522996 \nL 266.991416 18.522996 \nL 267.601363 18.043205 \nL 268.821257 18.043205 \nL 269.431204 17.083636 \nL 270.041152 18.522996 \nL 270.651099 17.083636 \nL 271.261046 18.043205 \nL 272.48094 17.083636 \nL 273.090887 17.083636 \nL 274.310782 18.043205 \nL 274.920729 17.563427 \nL 276.140623 17.563427 \nL 276.75057 18.522996 \nL 277.970465 18.522996 \nL 278.580412 17.083636 \nL 279.190359 17.563427 \nL 279.800306 17.563427 \nL 280.410253 18.522996 \nL 281.020201 17.563427 \nL 281.630148 17.083636 \nL 282.240095 18.043205 \nL 282.850042 18.043205 \nL 284.069936 19.002787 \nL 284.679884 17.563427 \nL 285.289831 18.043205 \nL 285.899778 18.043205 \nL 287.119672 17.083636 \nL 287.729619 18.043205 \nL 288.339567 18.522996 \nL 288.949514 18.043205 \nL 289.559461 18.522996 \nL 290.169408 18.522996 \nL 290.779355 17.563427 \nL 291.389302 17.563427 \nL 291.99925 18.522996 \nL 292.609197 18.043205 \nL 293.219144 18.522996 \nL 293.829091 17.563427 \nL 294.439038 18.043205 \nL 295.048985 18.043205 \nL 295.658933 19.002787 \nL 296.26888 18.522996 \nL 296.878827 19.002787 \nL 297.488774 17.083636 \nL 298.098721 18.522996 \nL 298.708668 18.043205 \nL 299.318616 19.482577 \nL 299.928563 19.002787 \nL 300.53851 19.002787 \nL 301.148457 17.563427 \nL 301.758404 19.002787 \nL 302.368351 20.921937 \nL 302.978299 21.401728 \nL 303.588246 20.921937 \nL 304.198193 19.962368 \nL 304.80814 20.442146 \nL 305.418087 19.962368 \nL 306.028034 20.921937 \nL 306.637982 19.962368 \nL 307.247929 20.921937 \nL 308.467823 18.043205 \nL 309.687717 17.083636 \nL 310.297665 19.002787 \nL 310.907612 17.083636 \nL 311.517559 18.043205 \nL 312.737453 18.043205 \nL 313.3474 17.563427 \nL 313.957348 19.002787 \nL 315.177242 18.043205 \nL 315.787189 18.522996 \nL 316.397136 17.083636 \nL 317.007083 18.522996 \nL 317.617031 17.563427 \nL 318.226978 18.522996 \nL 318.836925 18.043205 \nL 319.446872 19.482577 \nL 320.056819 19.002787 \nL 320.666766 19.002787 \nL 321.276714 18.043205 \nL 321.886661 18.043205 \nL 322.496608 19.482577 \nL 323.106555 17.563427 \nL 323.716502 18.522996 \nL 324.326449 18.522996 \nL 324.936397 18.043205 \nL 325.546344 18.043205 \nL 326.156291 17.563427 \nL 326.766238 17.563427 \nL 327.376185 18.043205 \nL 327.986132 19.482577 \nL 328.59608 18.522996 \nL 329.206027 19.002787 \nL 329.815974 18.522996 \nL 330.425921 19.482577 \nL 331.035868 18.522996 \nL 332.86571 18.522996 \nL 333.475657 18.043205 \nL 334.695551 19.002787 \nL 335.305498 18.522996 \nL 336.525393 19.482577 \nL 337.13534 19.002787 \nL 337.745287 18.043205 \nL 338.355234 19.002787 \nL 338.965181 19.002787 \nL 339.575129 19.482577 \nL 340.185076 19.482577 \nL 340.795023 17.563427 \nL 341.40497 18.043205 \nL 342.624865 18.043205 \nL 343.234812 18.522996 \nL 343.844759 18.043205 \nL 344.454706 18.522996 \nL 345.064653 18.522996 \nL 345.6746 18.043205 \nL 346.284548 19.002787 \nL 346.894495 17.563427 \nL 347.504442 17.083636 \nL 348.114389 18.043205 \nL 348.724336 18.043205 \nL 349.334283 18.522996 \nL 349.944231 18.522996 \nL 350.554178 19.002787 \nL 352.384019 17.563427 \nL 352.993966 19.002787 \nL 353.603914 19.002787 \nL 354.213861 18.522996 \nL 354.823808 18.522996 \nL 355.433755 17.563427 \nL 356.653649 19.482577 \nL 357.263597 18.043205 \nL 358.483491 17.083636 \nL 359.093438 17.563427 \nL 359.703385 17.083636 \nL 360.313332 17.563427 \nL 360.92328 17.083636 \nL 361.533227 18.043205 \nL 362.143174 18.522996 \nL 362.753121 18.522996 \nL 363.363068 18.043205 \nL 363.363068 18.043205 \n\" style=\"fill:none;stroke:#1f77b4;stroke-linecap:square;stroke-width:1.5;\"/>\n   </g>\n   <g id=\"patch_3\">\n    <path d=\"M 43.78125 224.64 \nL 43.78125 7.2 \n\" style=\"fill:none;stroke:#000000;stroke-linecap:square;stroke-linejoin:miter;stroke-width:0.8;\"/>\n   </g>\n   <g id=\"patch_4\">\n    <path d=\"M 378.58125 224.64 \nL 378.58125 7.2 \n\" style=\"fill:none;stroke:#000000;stroke-linecap:square;stroke-linejoin:miter;stroke-width:0.8;\"/>\n   </g>\n   <g id=\"patch_5\">\n    <path d=\"M 43.78125 224.64 \nL 378.58125 224.64 \n\" style=\"fill:none;stroke:#000000;stroke-linecap:square;stroke-linejoin:miter;stroke-width:0.8;\"/>\n   </g>\n   <g id=\"patch_6\">\n    <path d=\"M 43.78125 7.2 \nL 378.58125 7.2 \n\" style=\"fill:none;stroke:#000000;stroke-linecap:square;stroke-linejoin:miter;stroke-width:0.8;\"/>\n   </g>\n  </g>\n </g>\n <defs>\n  <clipPath id=\"p6f0def3a8c\">\n   <rect height=\"217.44\" width=\"334.8\" x=\"43.78125\" y=\"7.2\"/>\n  </clipPath>\n </defs>\n</svg>\n",
            "image/png": "[encoded data removed]"
          },
          "metadata": {
            "needs_background": "light"
          }
        }
      ]
    },
    {
      "cell_type": "code",
      "metadata": {
        "id": "6Vc6PHgxa6Hm"
      },
      "source": [
        "seed_text = \"Laurence went to dublin\" # 입력값\n",
        "next_words = 100 # 입력값 다음 100개의 단어가 뭘지 물어보겠다\n",
        "  \n",
        "for _ in range(next_words):\n",
        "\ttoken_list = tokenizer.texts_to_sequences([seed_text])[0] # 시퀀스. 여기서 Laurence는 토커나이저에 없는 단어라 0으로 처리되며 went, to, dublin만 토큰화 되어 [134 13 59]가 나온다. \n",
        "\ttoken_list = pad_sequences([token_list], maxlen=max_sequence_len-1, padding='pre') # 패딩. [0 0 0 0 0 0 0 134 13 59]로 변한다.\n",
        "\t# 모델을 훈련시킬 때 입력값으로 패딩 처리한 시퀀스를 넣었으니 seed_text역시 같은 과정을 거쳐야한다. \n",
        "\tpredicted = model.predict_classes(token_list, verbose=0) # 다음 단어 예측. 예측한 단어가 또다시 다음 단어를 예측하고...무한 반복이다. \n",
        "\toutput_word = \"\"\n",
        "\tfor word, index in tokenizer.word_index.items(): # 예측한 토큰과 일치하는 단어 찾기\n",
        "\t\tif index == predicted:\n",
        "\t\t\toutput_word = word\n",
        "\t\t\tbreak\n",
        "\tseed_text += \" \" + output_word # 예측한 단어를 seed_text에 더하기\n",
        "print(seed_text) # 처음엔 좋은데 문장이 길어질수록 조합이 이상해짐.(예측의 퀄리티가 떨어짐) 입력받은 데이터를 기준으로 판단한거기 때문에 어쩔 수 없음\n",
        "# 이게 seed_text의 초기값 \"Laurence went to dublin\"은 100% 정확도(내가 원했던 값)를 보이지만 이를 기반으로 다음 단어를 예측하는 순간 정확도는 100%에서 떨어지게 된다. 90% 원했던 단어라고 하자.\n",
        "# 그럼 그 다음 에측한 단어는 90% 단어를 기준으로 또 예측하는건데 90% 단어를 기준으로 선택한 것이니 내가 원하는 단어랑 더 멀어지겠지? 90% * XX% 만큼 원하는 단어가 두번 째 예측 단어로 선택되는 것이다. 이게 계속 반복되고...\n",
        "# 원래 문장에서 멀어질수록 단어 조합이 이상할 수 밖에 없다. "
      ],
      "execution_count": 16,
      "outputs": [
        {
          "output_type": "stream",
          "name": "stdout",
          "text": [
            "Laurence went to dublin and little as plenty as water water water red ball ball mavrone a rose mchugh rose arrived mchugh end again lanigans ball ball ball ball ball ball steps ball ball rose lanigans ball ball ball as finnertys rose mchugh hoops hoops hoops swore round further glisten swore round further rows ball were round milliner hall me merry as as red as a rose rose rose rose nonsense glisten nonsense their mchugh call mchugh glisten swore as water water forget how a hall a lanigan mchugh mchugh painted painted painted painted terrible call murther mchugh mchugh mchugh forget were groups entangled\n"
          ]
        }
      ]
    },
    {
      "cell_type": "code",
      "execution_count": null,
      "metadata": {},
      "outputs": [],
      "source": []
    }
  ]
}