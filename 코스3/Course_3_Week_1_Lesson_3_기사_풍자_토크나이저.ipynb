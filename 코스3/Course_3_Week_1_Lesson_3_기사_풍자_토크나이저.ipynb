{
  "nbformat": 4,
  "nbformat_minor": 0,
  "metadata": {
    "colab": {
      "name": "Course 3 - Week 1 - Lesson 3.ipynb",
      "provenance": [],
      "collapsed_sections": [],
      "toc_visible": true
    },
    "kernelspec": {
      "display_name": "Python 3",
      "name": "python3",
      "language": "python"
    }
  },
  "cells": [
    {
      "cell_type": "markdown",
      "metadata": {
        "id": "view-in-github"
      },
      "source": [
        "<a href=\"https://colab.research.google.com/github/lmoroney/dlaicourse/blob/master/TensorFlow%20In%20Practice/Course%203%20-%20NLP/Course%203%20-%20Week%201%20-%20Lesson%203.ipynb\" target=\"_parent\"><img src=\"https://colab.research.google.com/assets/colab-badge.svg\" alt=\"Open In Colab\"/></a>"
      ]
    },
    {
      "cell_type": "markdown",
      "metadata": {
        "id": "rX8mhOLljYeM"
      },
      "source": [
        "##### Copyright 2019 The TensorFlow Authors."
      ]
    },
    {
      "cell_type": "code",
      "metadata": {
        "cellView": "form",
        "id": "BZSlp3DAjdYf"
      },
      "source": [
        "# 토큰 데이터 받아오기\n",
        "#@title Licensed under the Apache License, Version 2.0 (the \"License\");\n",
        "# you may not use this file except in compliance with the License.\n",
        "# You may obtain a copy of the License at\n",
        "#\n",
        "# https://www.apache.org/licenses/LICENSE-2.0\n",
        "#\n",
        "# Unless required by applicable law or agreed to in writing, software\n",
        "# distributed under the License is distributed on an \"AS IS\" BASIS,\n",
        "# WITHOUT WARRANTIES OR CONDITIONS OF ANY KIND, either express or implied.\n",
        "# See the License for the specific language governing permissions and\n",
        "# limitations under the License."
      ],
      "execution_count": null,
      "outputs": []
    },
    {
      "cell_type": "code",
      "metadata": {
        "id": "OkaBMeNDwMel",
        "tags": []
      },
      "source": [
        "!wget --no-check-certificate \\ \n",
        "    https://storage.googleapis.com/laurencemoroney-blog.appspot.com/sarcasm.json \\\n",
        "    -O /tmp/sarcasm.json # 데이터 다운로드\n",
        "  \n",
        "import json\n",
        "\n",
        "with open(\"/tmp/sarcasm.json\", 'r') as f:\n",
        "    datastore = json.load(f) # 오픈한 파일을 저장\n",
        "\n",
        "# 데이터를 나눠서 보관\n",
        "sentences = [] \n",
        "labels = []\n",
        "urls = []\n",
        "for item in datastore:\n",
        "    sentences.append(item['headline']) # 헤드라인(입력값)\n",
        "    labels.append(item['is_sarcastic']) # 풍자인가 아닌가(결과값)\n",
        "    urls.append(item['article_link']) # 기사 링크\n",
        "\n",
        "\n",
        "\n",
        "from tensorflow.keras.preprocessing.text import Tokenizer\n",
        "from tensorflow.keras.preprocessing.sequence import pad_sequences\n",
        "tokenizer = Tokenizer(oov_token=\"<OOV>\") # 토크나이저가 들어있는 딕셔너리에 없는 단어는 OOV로 처리하겠다\n",
        "tokenizer.fit_on_texts(sentences) # 내가 받은 문장(입력값 : 기사 제목)을 토큰화\n",
        "\n",
        "word_index = tokenizer.word_index # 토큰화 결과값 받기\n",
        "# print(len(word_index)) # 토큰 개수\n",
        "# print(word_index) # 뭐가 들었나? 뭔가 많이 들어있다. \n",
        "sequences = tokenizer.texts_to_sequences(sentences) # 문장들을 토큰화 하기\n",
        "padded = pad_sequences(sequences, padding='post') # 제일 길이가 긴거 기준으로 패딩하기. padding = 'pre'면 앞, 'post'면 뒤에 패딩한다. \n",
        "print(sentences[0])\n",
        "print(padded[0]) # 맨처음 기사 제목이 토큰화 된거 보기\n",
        "# print(padded.shape) # 패딩된거 크기. (26709, 40)인걸로 보아 제일 긴건 단어 40개로 이뤄진 문장이라는 사실을 알 수 있다. "
      ],
      "execution_count": 2,
      "outputs": [
        {
          "output_type": "stream",
          "name": "stdout",
          "text": [
            "--2021-01-20 12:06:38--  https://storage.googleapis.com/laurencemoroney-blog.appspot.com/sarcasm.json\n",
            "Resolving storage.googleapis.com (storage.googleapis.com)... 34.64.4.16, 34.64.4.80\n",
            "Connecting to storage.googleapis.com (storage.googleapis.com)|34.64.4.16|:443... connected.\n",
            "HTTP request sent, awaiting response... 200 OK\n",
            "Length: 5643545 (5.4M) [application/json]\n",
            "Saving to: `/tmp/sarcasm.json'\n",
            "\n",
            "/tmp/sarcasm.json   100%[===================>]   5.38M  5.56MB/s    in 1.0s    \n",
            "\n",
            "2021-01-20 12:06:39 (5.56 MB/s) - `/tmp/sarcasm.json' saved [5643545/5643545]\n",
            "\n",
            "former versace store clerk sues over secret 'black code' for minority shoppers\n",
            "[  308 15115   679  3337  2298    48   382  2576 15116     6  2577  8434\n",
            "     0     0     0     0     0     0     0     0     0     0     0     0\n",
            "     0     0     0     0     0     0     0     0     0     0     0     0\n",
            "     0     0     0     0]\n"
          ]
        }
      ]
    },
    {
      "cell_type": "code",
      "execution_count": null,
      "metadata": {},
      "outputs": [],
      "source": []
    }
  ]
}